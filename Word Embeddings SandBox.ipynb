{
 "cells": [
  {
   "cell_type": "markdown",
   "metadata": {},
   "source": [
    "## Word Embeddings For Text Classification\n",
    "Source: https://github.com/RaRe-Technologies/movie-plots-by-genre/blob/master/Document%20classification%20with%20word%20embeddings%20tutorial.ipynb\n",
    "\n",
    "Slides with Notes: https://www.slideshare.net/YiShinChen1/quick-tour-of-text-mining"
   ]
  },
  {
   "cell_type": "markdown",
   "metadata": {},
   "source": [
    "### TASK: \n",
    "\n",
    "Classify Movie plots by genre using word embeddings techniques in Gensim"
   ]
  },
  {
   "cell_type": "markdown",
   "metadata": {},
   "source": [
    "### REPO:\n",
    "https://goo.gl/ppHX65"
   ]
  },
  {
   "cell_type": "markdown",
   "metadata": {},
   "source": [
    "### Requirements:\n",
    "\n",
    "#### Software:\n",
    "------------------\n",
    "\n",
    "* Python 3 (coding will be done strictly using Python)\n",
    "* Anaconda Environment (recommended but not mandatory) (https://www.continuum.io/downloads)\n",
    "* Jupyter (http://jupyter.org/)\n",
    "* Google's word2vec (Download the file... warning! it is really huge)(https://drive.google.com/file/d/0B7XkCwpI5KDYNlNUTTlSS21pQmM/edit?usp=sharing)\n",
    "* Gensim (https://radimrehurek.com/gensim/)\n",
    "* Scikit Learn (http://scikit-learn.org/stable/) (get the latest version)\n",
    "* Pandas (http://pandas.pydata.org/)\n",
    "* Matplotlib (https://matplotlib.org/)\n",
    "* NLTK (for stopwords) (http://www.nltk.org/)\n",
    "\n",
    "#### Computing Resources:\n",
    "-------------------\n",
    "* Operating System: Preferably Linux or MacOS (Windows break but you can try it out)\n",
    "* RAM: 4GB \n",
    "* Disk Space: 8GB (mostly to store word embeddings)"
   ]
  },
  {
   "cell_type": "code",
   "execution_count": 31,
   "metadata": {},
   "outputs": [
    {
     "name": "stdout",
     "output_type": "stream",
     "text": [
      "The autoreload extension is already loaded. To reload it, use:\n",
      "  %reload_ext autoreload\n"
     ]
    }
   ],
   "source": [
    "%load_ext autoreload\n",
    "%autoreload 2"
   ]
  },
  {
   "cell_type": "code",
   "execution_count": 32,
   "metadata": {},
   "outputs": [],
   "source": [
    "import logging\n",
    "logging.root.handlers = []  # Jupyter messes up logging so needs a reset\n",
    "logging.basicConfig(format='%(asctime)s : %(levelname)s : %(message)s', level=logging.INFO)\n",
    "from smart_open import smart_open\n",
    "import pandas as pd\n",
    "import numpy as np\n",
    "from numpy import random\n",
    "import gensim\n",
    "import nltk\n",
    "from sklearn.cross_validation import train_test_split\n",
    "from sklearn import linear_model\n",
    "from sklearn.feature_extraction.text import CountVectorizer, TfidfVectorizer\n",
    "from sklearn.metrics import accuracy_score, confusion_matrix\n",
    "import matplotlib.pyplot as plt\n",
    "from gensim.models import Word2Vec\n",
    "from sklearn.neighbors import KNeighborsClassifier\n",
    "from sklearn import linear_model\n",
    "from nltk.corpus import stopwords\n",
    "from helpers import *\n",
    "\n",
    "%matplotlib inline"
   ]
  },
  {
   "cell_type": "markdown",
   "metadata": {},
   "source": [
    "## Data Exploration\n",
    "---"
   ]
  },
  {
   "cell_type": "code",
   "execution_count": 115,
   "metadata": {},
   "outputs": [
    {
     "data": {
      "text/plain": [
       "171156"
      ]
     },
     "execution_count": 115,
     "metadata": {},
     "output_type": "execute_result"
    }
   ],
   "source": [
    "# read reviews\n",
    "df = pd.read_csv('data/movie_reviews/tagged_plots_movielens.csv')\n",
    "df = df.dropna()\n",
    "\n",
    "# count the number of words\n",
    "df['plot'].apply(lambda x: len(x.split(' '))).sum()"
   ]
  },
  {
   "cell_type": "markdown",
   "metadata": {},
   "source": [
    "**Exercise:** Plot tokens by frequency"
   ]
  },
  {
   "cell_type": "markdown",
   "metadata": {},
   "source": [
    "**Note:** Usually at least 500K words are suggested to train word2vec model, so performance may be unsual here\n",
    "\n",
    "We only have (1/5th) therefore some models may not peform very well."
   ]
  },
  {
   "cell_type": "code",
   "execution_count": 34,
   "metadata": {},
   "outputs": [
    {
     "data": {
      "text/html": [
       "<div>\n",
       "<style>\n",
       "    .dataframe thead tr:only-child th {\n",
       "        text-align: right;\n",
       "    }\n",
       "\n",
       "    .dataframe thead th {\n",
       "        text-align: left;\n",
       "    }\n",
       "\n",
       "    .dataframe tbody tr th {\n",
       "        vertical-align: top;\n",
       "    }\n",
       "</style>\n",
       "<table border=\"1\" class=\"dataframe\">\n",
       "  <thead>\n",
       "    <tr style=\"text-align: right;\">\n",
       "      <th></th>\n",
       "      <th>Unnamed: 0</th>\n",
       "      <th>movieId</th>\n",
       "      <th>plot</th>\n",
       "      <th>tag</th>\n",
       "    </tr>\n",
       "  </thead>\n",
       "  <tbody>\n",
       "    <tr>\n",
       "      <th>0</th>\n",
       "      <td>0</td>\n",
       "      <td>1</td>\n",
       "      <td>A little boy named Andy loves to be in his roo...</td>\n",
       "      <td>animation</td>\n",
       "    </tr>\n",
       "    <tr>\n",
       "      <th>1</th>\n",
       "      <td>1</td>\n",
       "      <td>2</td>\n",
       "      <td>When two kids find and play a magical board ga...</td>\n",
       "      <td>fantasy</td>\n",
       "    </tr>\n",
       "    <tr>\n",
       "      <th>2</th>\n",
       "      <td>2</td>\n",
       "      <td>3</td>\n",
       "      <td>Things don't seem to change much in Wabasha Co...</td>\n",
       "      <td>comedy</td>\n",
       "    </tr>\n",
       "    <tr>\n",
       "      <th>3</th>\n",
       "      <td>3</td>\n",
       "      <td>6</td>\n",
       "      <td>Hunters and their prey--Neil and his professio...</td>\n",
       "      <td>action</td>\n",
       "    </tr>\n",
       "    <tr>\n",
       "      <th>4</th>\n",
       "      <td>4</td>\n",
       "      <td>7</td>\n",
       "      <td>An ugly duckling having undergone a remarkable...</td>\n",
       "      <td>romance</td>\n",
       "    </tr>\n",
       "    <tr>\n",
       "      <th>5</th>\n",
       "      <td>5</td>\n",
       "      <td>9</td>\n",
       "      <td>Some terrorists kidnap the Vice President of t...</td>\n",
       "      <td>action</td>\n",
       "    </tr>\n",
       "    <tr>\n",
       "      <th>6</th>\n",
       "      <td>6</td>\n",
       "      <td>10</td>\n",
       "      <td>James Bond teams up with the lone survivor of ...</td>\n",
       "      <td>action</td>\n",
       "    </tr>\n",
       "    <tr>\n",
       "      <th>7</th>\n",
       "      <td>7</td>\n",
       "      <td>15</td>\n",
       "      <td>Morgan Adams and her slave, William Shaw, are ...</td>\n",
       "      <td>action</td>\n",
       "    </tr>\n",
       "    <tr>\n",
       "      <th>8</th>\n",
       "      <td>8</td>\n",
       "      <td>17</td>\n",
       "      <td>When Mr. Dashwood dies, he must leave the bulk...</td>\n",
       "      <td>romance</td>\n",
       "    </tr>\n",
       "    <tr>\n",
       "      <th>9</th>\n",
       "      <td>9</td>\n",
       "      <td>18</td>\n",
       "      <td>This movie features the collaborative director...</td>\n",
       "      <td>comedy</td>\n",
       "    </tr>\n",
       "  </tbody>\n",
       "</table>\n",
       "</div>"
      ],
      "text/plain": [
       "   Unnamed: 0  movieId                                               plot  \\\n",
       "0           0        1  A little boy named Andy loves to be in his roo...   \n",
       "1           1        2  When two kids find and play a magical board ga...   \n",
       "2           2        3  Things don't seem to change much in Wabasha Co...   \n",
       "3           3        6  Hunters and their prey--Neil and his professio...   \n",
       "4           4        7  An ugly duckling having undergone a remarkable...   \n",
       "5           5        9  Some terrorists kidnap the Vice President of t...   \n",
       "6           6       10  James Bond teams up with the lone survivor of ...   \n",
       "7           7       15  Morgan Adams and her slave, William Shaw, are ...   \n",
       "8           8       17  When Mr. Dashwood dies, he must leave the bulk...   \n",
       "9           9       18  This movie features the collaborative director...   \n",
       "\n",
       "         tag  \n",
       "0  animation  \n",
       "1    fantasy  \n",
       "2     comedy  \n",
       "3     action  \n",
       "4    romance  \n",
       "5     action  \n",
       "6     action  \n",
       "7     action  \n",
       "8    romance  \n",
       "9     comedy  "
      ]
     },
     "execution_count": 34,
     "metadata": {},
     "output_type": "execute_result"
    }
   ],
   "source": [
    "df[:10]"
   ]
  },
  {
   "cell_type": "code",
   "execution_count": 35,
   "metadata": {},
   "outputs": [
    {
     "data": {
      "text/plain": [
       "<matplotlib.axes._subplots.AxesSubplot at 0x7f9eadcc4e80>"
      ]
     },
     "execution_count": 35,
     "metadata": {},
     "output_type": "execute_result"
    },
    {
     "data": {
      "image/png": "[encoded data removed]",
      "text/plain": [
       "<matplotlib.figure.Figure at 0x7f9eadcb1dd8>"
      ]
     },
     "metadata": {},
     "output_type": "display_data"
    }
   ],
   "source": [
    "# classes\n",
    "my_tags = ['sci-fi' , 'action', 'comedy', 'fantasy', 'animation', 'romance']\n",
    "df.tag.value_counts().plot(kind=\"bar\", rot=0)"
   ]
  },
  {
   "cell_type": "markdown",
   "metadata": {},
   "source": [
    "**Note:** Unbalanced dataset; Comedy has significantly more examples than the rest of the classes (40% overall)"
   ]
  },
  {
   "cell_type": "markdown",
   "metadata": {},
   "source": [
    "**TODO:** Do some more text mining exploration and statistical inferences here"
   ]
  },
  {
   "cell_type": "code",
   "execution_count": 36,
   "metadata": {
    "collapsed": true
   },
   "outputs": [],
   "source": [
    "# split the data (90/10)\n",
    "train_data, test_data = train_test_split(df, test_size=0.1, random_state=42)"
   ]
  },
  {
   "cell_type": "code",
   "execution_count": 37,
   "metadata": {},
   "outputs": [
    {
     "data": {
      "text/plain": [
       "(243, 2184)"
      ]
     },
     "execution_count": 37,
     "metadata": {},
     "output_type": "execute_result"
    }
   ],
   "source": [
    "len(test_data), len(train_data)"
   ]
  },
  {
   "cell_type": "code",
   "execution_count": 38,
   "metadata": {},
   "outputs": [
    {
     "data": {
      "text/plain": [
       "<matplotlib.axes._subplots.AxesSubplot at 0x7f9ead443828>"
      ]
     },
     "execution_count": 38,
     "metadata": {},
     "output_type": "execute_result"
    },
    {
     "data": {
      "image/png": "[encoded data removed]",
      "text/plain": [
       "<matplotlib.figure.Figure at 0x7f9eadcc2f98>"
      ]
     },
     "metadata": {},
     "output_type": "display_data"
    }
   ],
   "source": [
    "# distribution of the test data\n",
    "test_data.tag.value_counts().plot(kind=\"bar\", rot=0)"
   ]
  },
  {
   "cell_type": "markdown",
   "metadata": {},
   "source": [
    "## Train Naive Models (Baselines)\n",
    "---\n",
    "* Bag of words\n",
    "* N-grams\n",
    "* TF-IDF"
   ]
  },
  {
   "cell_type": "markdown",
   "metadata": {},
   "source": [
    "### 1. Bag of Words\n",
    "Using scikitlearn CountVectorizer"
   ]
  },
  {
   "cell_type": "code",
   "execution_count": 39,
   "metadata": {},
   "outputs": [],
   "source": [
    "# training\n",
    "count_vectorizer = CountVectorizer(\n",
    "    analyzer=\"word\", tokenizer=nltk.word_tokenize,\n",
    "    preprocessor=None, stop_words='english', max_features=3000) \n",
    "\n",
    "# choose what are the features\n",
    "train_data_features = count_vectorizer.fit_transform(train_data['plot'])"
   ]
  },
  {
   "cell_type": "markdown",
   "metadata": {},
   "source": [
    "**Excercise**: Authors only use logistic regression but we can also train with naive bayesian, random forest, gradient boosting, and deep neural networks"
   ]
  },
  {
   "cell_type": "code",
   "execution_count": 40,
   "metadata": {
    "collapsed": true
   },
   "outputs": [],
   "source": [
    "logreg_model = linear_model.LogisticRegression(n_jobs=1, C=1e5)\n",
    "logreg_model = logreg_model.fit(train_data_features, train_data['tag'])"
   ]
  },
  {
   "cell_type": "code",
   "execution_count": 41,
   "metadata": {},
   "outputs": [
    {
     "data": {
      "text/plain": [
       "['warrior',\n",
       " 'warriors',\n",
       " 'wars',\n",
       " 'washington',\n",
       " 'watch',\n",
       " 'watches',\n",
       " 'watching',\n",
       " 'water',\n",
       " 'waters',\n",
       " 'way',\n",
       " 'wayne']"
      ]
     },
     "execution_count": 41,
     "metadata": {},
     "output_type": "execute_result"
    }
   ],
   "source": [
    "# oberve some features\n",
    "count_vectorizer.get_feature_names()[2899:2910]"
   ]
  },
  {
   "cell_type": "code",
   "execution_count": 42,
   "metadata": {},
   "outputs": [
    {
     "data": {
      "text/plain": [
       "<1x3000 sparse matrix of type '<class 'numpy.int64'>'\n",
       "\twith 43 stored elements in Compressed Sparse Row format>"
      ]
     },
     "execution_count": 42,
     "metadata": {},
     "output_type": "execute_result"
    }
   ],
   "source": [
    "# amount of features detected (3000)\n",
    "train_data_features[0]"
   ]
  },
  {
   "cell_type": "code",
   "execution_count": 43,
   "metadata": {},
   "outputs": [
    {
     "name": "stdout",
     "output_type": "stream",
     "text": [
      "accuracy 0.423868312757\n",
      "confusion matrix\n",
      " [[21  2 10  1  4  4]\n",
      " [ 4 10  8  0  3  6]\n",
      " [10 11 45  3 16  1]\n",
      " [ 1  5  3  4  3  0]\n",
      " [ 1  3 15  2 11  3]\n",
      " [ 8  5  6  2  0 12]]\n",
      "(row=expected, col=predicted)\n"
     ]
    },
    {
     "data": {
      "image/png": "[encoded data removed]",
      "text/plain": [
       "<matplotlib.figure.Figure at 0x7f9ead8cd208>"
      ]
     },
     "metadata": {},
     "output_type": "display_data"
    }
   ],
   "source": [
    "word_embeddings.predict(count_vectorizer, logreg_model, test_data, my_tags)"
   ]
  },
  {
   "cell_type": "markdown",
   "metadata": {},
   "source": [
    "**Note 1**: Classifier performs slighly better than chance. 40% if the classifier said all were comedy and 42% with the bag of word model"
   ]
  },
  {
   "cell_type": "code",
   "execution_count": 44,
   "metadata": {},
   "outputs": [],
   "source": [
    "# words for the action genre\n",
    "comedy_tag_id = word_embeddings.get_tag_index(my_tags, \"comedy\")\n",
    "comedy_words = word_embeddings.most_influential_words(logreg_model, count_vectorizer, \\\n",
    "                                                      comedy_tag_id, 3000)\n",
    "comedy_words = pd.DataFrame(comedy_words)"
   ]
  },
  {
   "cell_type": "code",
   "execution_count": 45,
   "metadata": {},
   "outputs": [
    {
     "data": {
      "text/html": [
       "<div>\n",
       "<style>\n",
       "    .dataframe thead tr:only-child th {\n",
       "        text-align: right;\n",
       "    }\n",
       "\n",
       "    .dataframe thead th {\n",
       "        text-align: left;\n",
       "    }\n",
       "\n",
       "    .dataframe tbody tr th {\n",
       "        vertical-align: top;\n",
       "    }\n",
       "</style>\n",
       "<table border=\"1\" class=\"dataframe\">\n",
       "  <thead>\n",
       "    <tr style=\"text-align: right;\">\n",
       "      <th></th>\n",
       "      <th>0</th>\n",
       "      <th>1</th>\n",
       "    </tr>\n",
       "  </thead>\n",
       "  <tbody>\n",
       "    <tr>\n",
       "      <th>0</th>\n",
       "      <td>mistaken</td>\n",
       "      <td>11.810842</td>\n",
       "    </tr>\n",
       "    <tr>\n",
       "      <th>1</th>\n",
       "      <td>jewish</td>\n",
       "      <td>10.668508</td>\n",
       "    </tr>\n",
       "    <tr>\n",
       "      <th>2</th>\n",
       "      <td>suspects</td>\n",
       "      <td>10.104922</td>\n",
       "    </tr>\n",
       "    <tr>\n",
       "      <th>3</th>\n",
       "      <td>comedy</td>\n",
       "      <td>9.949616</td>\n",
       "    </tr>\n",
       "    <tr>\n",
       "      <th>4</th>\n",
       "      <td>dealer</td>\n",
       "      <td>9.775865</td>\n",
       "    </tr>\n",
       "    <tr>\n",
       "      <th>5</th>\n",
       "      <td>comedian</td>\n",
       "      <td>9.634339</td>\n",
       "    </tr>\n",
       "    <tr>\n",
       "      <th>6</th>\n",
       "      <td>operation</td>\n",
       "      <td>9.512068</td>\n",
       "    </tr>\n",
       "    <tr>\n",
       "      <th>7</th>\n",
       "      <td>stuart</td>\n",
       "      <td>9.323364</td>\n",
       "    </tr>\n",
       "    <tr>\n",
       "      <th>8</th>\n",
       "      <td>actress</td>\n",
       "      <td>9.232942</td>\n",
       "    </tr>\n",
       "    <tr>\n",
       "      <th>9</th>\n",
       "      <td>dimension</td>\n",
       "      <td>9.097288</td>\n",
       "    </tr>\n",
       "  </tbody>\n",
       "</table>\n",
       "</div>"
      ],
      "text/plain": [
       "           0          1\n",
       "0   mistaken  11.810842\n",
       "1     jewish  10.668508\n",
       "2   suspects  10.104922\n",
       "3     comedy   9.949616\n",
       "4     dealer   9.775865\n",
       "5   comedian   9.634339\n",
       "6  operation   9.512068\n",
       "7     stuart   9.323364\n",
       "8    actress   9.232942\n",
       "9  dimension   9.097288"
      ]
     },
     "execution_count": 45,
     "metadata": {},
     "output_type": "execute_result"
    }
   ],
   "source": [
    "comedy_words[:10]"
   ]
  },
  {
   "cell_type": "code",
   "execution_count": 46,
   "metadata": {},
   "outputs": [],
   "source": [
    "# words for the action genre\n",
    "animation_tag_id = word_embeddings.get_tag_index(my_tags, \"animation\")\n",
    "animation_words = word_embeddings.most_influential_words(logreg_model, count_vectorizer,\\\n",
    "                                                         animation_tag_id, 3000)\n",
    "animation_words = pd.DataFrame(animation_words)"
   ]
  },
  {
   "cell_type": "code",
   "execution_count": 47,
   "metadata": {},
   "outputs": [
    {
     "data": {
      "text/html": [
       "<div>\n",
       "<style>\n",
       "    .dataframe thead tr:only-child th {\n",
       "        text-align: right;\n",
       "    }\n",
       "\n",
       "    .dataframe thead th {\n",
       "        text-align: left;\n",
       "    }\n",
       "\n",
       "    .dataframe tbody tr th {\n",
       "        vertical-align: top;\n",
       "    }\n",
       "</style>\n",
       "<table border=\"1\" class=\"dataframe\">\n",
       "  <thead>\n",
       "    <tr style=\"text-align: right;\">\n",
       "      <th></th>\n",
       "      <th>0</th>\n",
       "      <th>1</th>\n",
       "    </tr>\n",
       "  </thead>\n",
       "  <tbody>\n",
       "    <tr>\n",
       "      <th>0</th>\n",
       "      <td>nazi</td>\n",
       "      <td>8.946895</td>\n",
       "    </tr>\n",
       "    <tr>\n",
       "      <th>1</th>\n",
       "      <td>sisters</td>\n",
       "      <td>8.870921</td>\n",
       "    </tr>\n",
       "    <tr>\n",
       "      <th>2</th>\n",
       "      <td>troubled</td>\n",
       "      <td>8.720853</td>\n",
       "    </tr>\n",
       "    <tr>\n",
       "      <th>3</th>\n",
       "      <td>affair</td>\n",
       "      <td>8.603380</td>\n",
       "    </tr>\n",
       "    <tr>\n",
       "      <th>4</th>\n",
       "      <td>revealed</td>\n",
       "      <td>8.499657</td>\n",
       "    </tr>\n",
       "    <tr>\n",
       "      <th>5</th>\n",
       "      <td>relationships</td>\n",
       "      <td>8.112722</td>\n",
       "    </tr>\n",
       "    <tr>\n",
       "      <th>6</th>\n",
       "      <td>decide</td>\n",
       "      <td>8.016373</td>\n",
       "    </tr>\n",
       "    <tr>\n",
       "      <th>7</th>\n",
       "      <td>spending</td>\n",
       "      <td>7.919799</td>\n",
       "    </tr>\n",
       "    <tr>\n",
       "      <th>8</th>\n",
       "      <td>wolf</td>\n",
       "      <td>7.470311</td>\n",
       "    </tr>\n",
       "    <tr>\n",
       "      <th>9</th>\n",
       "      <td>photographer</td>\n",
       "      <td>7.268472</td>\n",
       "    </tr>\n",
       "  </tbody>\n",
       "</table>\n",
       "</div>"
      ],
      "text/plain": [
       "               0         1\n",
       "0           nazi  8.946895\n",
       "1        sisters  8.870921\n",
       "2       troubled  8.720853\n",
       "3         affair  8.603380\n",
       "4       revealed  8.499657\n",
       "5  relationships  8.112722\n",
       "6         decide  8.016373\n",
       "7       spending  7.919799\n",
       "8           wolf  7.470311\n",
       "9   photographer  7.268472"
      ]
     },
     "execution_count": 47,
     "metadata": {},
     "output_type": "execute_result"
    }
   ],
   "source": [
    "# the most influential words for the animation category\n",
    "animation_words[:10]"
   ]
  },
  {
   "cell_type": "code",
   "execution_count": 48,
   "metadata": {},
   "outputs": [
    {
     "data": {
      "text/html": [
       "<div>\n",
       "<style>\n",
       "    .dataframe thead tr:only-child th {\n",
       "        text-align: right;\n",
       "    }\n",
       "\n",
       "    .dataframe thead th {\n",
       "        text-align: left;\n",
       "    }\n",
       "\n",
       "    .dataframe tbody tr th {\n",
       "        vertical-align: top;\n",
       "    }\n",
       "</style>\n",
       "<table border=\"1\" class=\"dataframe\">\n",
       "  <thead>\n",
       "    <tr style=\"text-align: right;\">\n",
       "      <th></th>\n",
       "      <th>0</th>\n",
       "      <th>1</th>\n",
       "    </tr>\n",
       "  </thead>\n",
       "  <tbody>\n",
       "    <tr>\n",
       "      <th>0</th>\n",
       "      <td>national</td>\n",
       "      <td>15.013773</td>\n",
       "    </tr>\n",
       "    <tr>\n",
       "      <th>1</th>\n",
       "      <td>chosen</td>\n",
       "      <td>7.682396</td>\n",
       "    </tr>\n",
       "    <tr>\n",
       "      <th>2</th>\n",
       "      <td>princess</td>\n",
       "      <td>6.555631</td>\n",
       "    </tr>\n",
       "    <tr>\n",
       "      <th>3</th>\n",
       "      <td>prove</td>\n",
       "      <td>6.072531</td>\n",
       "    </tr>\n",
       "    <tr>\n",
       "      <th>4</th>\n",
       "      <td>beast</td>\n",
       "      <td>5.901359</td>\n",
       "    </tr>\n",
       "    <tr>\n",
       "      <th>5</th>\n",
       "      <td>fan</td>\n",
       "      <td>5.886863</td>\n",
       "    </tr>\n",
       "    <tr>\n",
       "      <th>6</th>\n",
       "      <td>moving</td>\n",
       "      <td>5.641193</td>\n",
       "    </tr>\n",
       "    <tr>\n",
       "      <th>7</th>\n",
       "      <td>fantasies</td>\n",
       "      <td>5.636695</td>\n",
       "    </tr>\n",
       "    <tr>\n",
       "      <th>8</th>\n",
       "      <td>director</td>\n",
       "      <td>5.516928</td>\n",
       "    </tr>\n",
       "    <tr>\n",
       "      <th>9</th>\n",
       "      <td>angel</td>\n",
       "      <td>5.485528</td>\n",
       "    </tr>\n",
       "  </tbody>\n",
       "</table>\n",
       "</div>"
      ],
      "text/plain": [
       "           0          1\n",
       "0   national  15.013773\n",
       "1     chosen   7.682396\n",
       "2   princess   6.555631\n",
       "3      prove   6.072531\n",
       "4      beast   5.901359\n",
       "5        fan   5.886863\n",
       "6     moving   5.641193\n",
       "7  fantasies   5.636695\n",
       "8   director   5.516928\n",
       "9      angel   5.485528"
      ]
     },
     "execution_count": 48,
     "metadata": {},
     "output_type": "execute_result"
    }
   ],
   "source": [
    "# words for the action genre\n",
    "fantasy_tag_id = word_embeddings.get_tag_index(my_tags, \"fantasy\")\n",
    "fantasy_words = word_embeddings.most_influential_words(logreg_model, count_vectorizer,\\\n",
    "                                                       fantasy_tag_id, 3000)\n",
    "fantasy_words = pd.DataFrame(fantasy_words)\n",
    "\n",
    "# the most influential words for the animation category\n",
    "fantasy_words[:10]"
   ]
  },
  {
   "cell_type": "code",
   "execution_count": 49,
   "metadata": {},
   "outputs": [
    {
     "data": {
      "text/plain": [
       "[[['jay', 12],\n",
       "  ['insane', 114],\n",
       "  ['lawyer', 116],\n",
       "  ['environment', 162],\n",
       "  ['marry', 166],\n",
       "  ['did', 170],\n",
       "  ['sons', 222],\n",
       "  ['hunting', 302],\n",
       "  ['boys', 318],\n",
       "  ['asked', 323],\n",
       "  ['jobs', 336],\n",
       "  ['opportunity', 341],\n",
       "  ['heading', 408],\n",
       "  ['threatened', 414],\n",
       "  ['american', 427],\n",
       "  ['brooklyn', 428],\n",
       "  ['turned', 429],\n",
       "  ['late', 445],\n",
       "  ['chinese', 450],\n",
       "  ['president', 453],\n",
       "  ['ready', 456],\n",
       "  ['look', 469],\n",
       "  ['england', 488]],\n",
       " 23]"
      ]
     },
     "execution_count": 49,
     "metadata": {},
     "output_type": "execute_result"
    }
   ],
   "source": [
    "# Check what are the words that overlap between comedy and animation\n",
    "word_embeddings.check_word_overlap(comedy_words[:500][0], animation_words[:500][0])"
   ]
  },
  {
   "cell_type": "markdown",
   "metadata": {},
   "source": [
    "### 2. Character N-grams"
   ]
  },
  {
   "cell_type": "markdown",
   "metadata": {},
   "source": [
    "A character n-gram is a chunk of a document of length n. It is a poor man's tokenizer but sometimes works well. The parameter n depends on language and the corpus. We choose length between 3 and 6 characters and to only focus on 3k most popular ones. 3K is a fair comparison since the previous bag of words model was this size as well."
   ]
  },
  {
   "cell_type": "code",
   "execution_count": 50,
   "metadata": {},
   "outputs": [],
   "source": [
    "n_gram_vectorizer = CountVectorizer(\n",
    "    analyzer=\"char\",\n",
    "    ngram_range=([2,5]),\n",
    "    tokenizer=None,    \n",
    "    preprocessor=None,                               \n",
    "    max_features=3000) \n",
    "\n",
    "charn_model = linear_model.LogisticRegression(n_jobs=1, C=1e5)\n",
    "\n",
    "train_data_features = n_gram_vectorizer.fit_transform(train_data['plot'])\n",
    "\n",
    "charn_model = charn_model.fit(train_data_features, train_data['tag'])"
   ]
  },
  {
   "cell_type": "code",
   "execution_count": 51,
   "metadata": {},
   "outputs": [
    {
     "data": {
      "text/plain": [
       "[' chil',\n",
       " ' ci',\n",
       " ' cit',\n",
       " ' cl',\n",
       " ' co',\n",
       " ' col',\n",
       " ' com',\n",
       " ' come',\n",
       " ' comp',\n",
       " ' con',\n",
       " ' cont',\n",
       " ' cou',\n",
       " ' cr',\n",
       " ' cre',\n",
       " ' cu',\n",
       " ' d',\n",
       " ' da',\n",
       " ' dan',\n",
       " ' day',\n",
       " ' de']"
      ]
     },
     "execution_count": 51,
     "metadata": {},
     "output_type": "execute_result"
    }
   ],
   "source": [
    "# some features\n",
    "n_gram_vectorizer.get_feature_names()[100:120]"
   ]
  },
  {
   "cell_type": "code",
   "execution_count": 52,
   "metadata": {},
   "outputs": [
    {
     "name": "stdout",
     "output_type": "stream",
     "text": [
      "accuracy 0.399176954733\n",
      "confusion matrix\n",
      " [[17  3 12  1  5  4]\n",
      " [ 4  9  9  4  1  4]\n",
      " [12 10 41  6 15  2]\n",
      " [ 2  1  2  5  1  5]\n",
      " [ 5  1 15  1 11  2]\n",
      " [ 8  1  7  3  0 14]]\n",
      "(row=expected, col=predicted)\n"
     ]
    },
    {
     "data": {
      "image/png": "[encoded data removed]",
      "text/plain": [
       "<matplotlib.figure.Figure at 0x7f9eada25e80>"
      ]
     },
     "metadata": {},
     "output_type": "display_data"
    }
   ],
   "source": [
    "word_embeddings.predict(n_gram_vectorizer, charn_model, test_data, my_tags)"
   ]
  },
  {
   "cell_type": "markdown",
   "metadata": {},
   "source": [
    "**Note**: The model performs really bad :_(, even worst than chance. Perhaps we can improve it by removing stopwords. 30% accuracy"
   ]
  },
  {
   "cell_type": "markdown",
   "metadata": {},
   "source": [
    "### 3. TF-IDF\n",
    "Term Frequency - Inverse Document Frequency is useful to rank importance of words to documents"
   ]
  },
  {
   "cell_type": "code",
   "execution_count": 53,
   "metadata": {
    "collapsed": true
   },
   "outputs": [],
   "source": [
    "tf_vect = TfidfVectorizer(\n",
    "    min_df=2, tokenizer=nltk.word_tokenize,\n",
    "    preprocessor=None, stop_words='english')\n",
    "train_data_features = tf_vect.fit_transform(train_data['plot'])\n",
    "\n",
    "tfidf_model = linear_model.LogisticRegression(n_jobs=1, C=1e5)\n",
    "tfidf_model = tfidf_model.fit(train_data_features, train_data['tag'])"
   ]
  },
  {
   "cell_type": "code",
   "execution_count": 54,
   "metadata": {},
   "outputs": [
    {
     "data": {
      "text/plain": [
       "['caesar',\n",
       " 'cage',\n",
       " 'caine',\n",
       " 'cal',\n",
       " 'calhoun',\n",
       " 'california',\n",
       " 'californians',\n",
       " 'called',\n",
       " 'calling',\n",
       " 'callous']"
      ]
     },
     "execution_count": 54,
     "metadata": {},
     "output_type": "execute_result"
    }
   ],
   "source": [
    "tf_vect.get_feature_names()[1000:1010]"
   ]
  },
  {
   "cell_type": "code",
   "execution_count": 55,
   "metadata": {},
   "outputs": [
    {
     "name": "stdout",
     "output_type": "stream",
     "text": [
      "accuracy 0.465020576132\n",
      "confusion matrix\n",
      " [[23  2 12  2  2  1]\n",
      " [ 3 10 10  1  3  4]\n",
      " [ 9  6 49  0 21  1]\n",
      " [ 3  4  1  4  2  2]\n",
      " [ 1  2 20  0 11  1]\n",
      " [ 9  2  5  1  0 16]]\n",
      "(row=expected, col=predicted)\n"
     ]
    },
    {
     "data": {
      "image/png": "[encoded data removed]",
      "text/plain": [
       "<matplotlib.figure.Figure at 0x7f9ead1708d0>"
      ]
     },
     "metadata": {},
     "output_type": "display_data"
    }
   ],
   "source": [
    "word_embeddings.predict(tf_vect, tfidf_model, test_data, my_tags)"
   ]
  },
  {
   "cell_type": "markdown",
   "metadata": {},
   "source": [
    "Let us do some analysis on the model now"
   ]
  },
  {
   "cell_type": "code",
   "execution_count": 56,
   "metadata": {},
   "outputs": [
    {
     "data": {
      "text/plain": [
       "[['comedy', 24.5992977289301],\n",
       " ['jewish', 21.111621307928754],\n",
       " ['mistaken', 20.906784380688975],\n",
       " ['kindergarten', 20.550050838076675],\n",
       " ['duo', 20.039310378863604],\n",
       " ['dimension', 19.730576933476108],\n",
       " ['beloved', 19.655031499523833],\n",
       " ['dealer', 19.190813922478519],\n",
       " ['street', 18.766362320888405],\n",
       " ['tramp', 18.567543420444927]]"
      ]
     },
     "execution_count": 56,
     "metadata": {},
     "output_type": "execute_result"
    }
   ],
   "source": [
    "# words for the comedy genre\n",
    "comedy_tag_id = word_embeddings.get_tag_index(my_tags, \"comedy\")\n",
    "comedy_words = word_embeddings.most_influential_words(tfidf_model, tf_vect, comedy_tag_id, 3000)\n",
    "comedy_words[0:10]"
   ]
  },
  {
   "cell_type": "code",
   "execution_count": 57,
   "metadata": {},
   "outputs": [
    {
     "data": {
      "text/plain": [
       "[['edward', 17.405228729634185],\n",
       " ['magical', 16.525441688448286],\n",
       " ['kingdom', 15.293991691029369],\n",
       " ['adventures', 14.936271113826516],\n",
       " ['percy', 14.809172140901389],\n",
       " ['moving', 14.203174472333552],\n",
       " ['land', 14.153599202700454],\n",
       " ['demon', 14.140054691071217],\n",
       " ['fan', 14.042094086775878],\n",
       " ['king', 13.98948584958028]]"
      ]
     },
     "execution_count": 57,
     "metadata": {},
     "output_type": "execute_result"
    }
   ],
   "source": [
    "# words for the fantasy genre\n",
    "fantasy_tag_id = word_embeddings.get_tag_index(my_tags, \"fantasy\")\n",
    "fantasy_words = word_embeddings.most_influential_words(tfidf_model, tf_vect, fantasy_tag_id, 3000)\n",
    "fantasy_words[0:10]"
   ]
  },
  {
   "cell_type": "markdown",
   "metadata": {},
   "source": [
    "Now let us observe what are the most influential words for a given movie plot"
   ]
  },
  {
   "cell_type": "code",
   "execution_count": 58,
   "metadata": {},
   "outputs": [
    {
     "data": {
      "text/plain": [
       "['boy',\n",
       " 'loves',\n",
       " 'playing',\n",
       " 'come',\n",
       " 'worry',\n",
       " 'family',\n",
       " 'does',\n",
       " 'mother',\n",
       " 'action',\n",
       " 'quickly',\n",
       " 'tries',\n",
       " 'rid',\n",
       " 'ruthless',\n",
       " 'toy']"
      ]
     },
     "execution_count": 58,
     "metadata": {},
     "output_type": "execute_result"
    }
   ],
   "source": [
    "word_embeddings.most_influential_words_doc(train_data['plot'][0], fantasy_words)"
   ]
  },
  {
   "cell_type": "markdown",
   "metadata": {},
   "source": [
    "**Note:** As you can see from the list above, there are words, such as *does* and *tries* that are not so relevant to the *fantasy* category. Therefore, we can still do better with this model. \n",
    "\n",
    "**Excercise:** Head to [scikit-learn](http://scikit-learn.org/stable/modules/generated/sklearn.feature_extraction.text.TfidfVectorizer.html) and try to use different parameter for the TF-IDF vectorizer, such as modifying the *ngram_range*. It might improve the performance of the classifier. "
   ]
  },
  {
   "cell_type": "markdown",
   "metadata": {},
   "source": [
    "## Averaging Word Vectors (word2vec)"
   ]
  },
  {
   "cell_type": "markdown",
   "metadata": {},
   "source": [
    "**SOURCE:** https://code.google.com/archive/p/word2vec/\n",
    "\n",
    "First we are going to use a pretrained model open source by Google (word2vec)"
   ]
  },
  {
   "cell_type": "code",
   "execution_count": 59,
   "metadata": {},
   "outputs": [
    {
     "name": "stderr",
     "output_type": "stream",
     "text": [
      "2017-06-28 22:11:11,385 : INFO : loading projection weights from data/google_word2vec/GoogleNews-vectors-negative300.bin.gz\n",
      "2017-06-28 22:13:00,195 : INFO : loaded (3000000, 300) matrix from data/google_word2vec/GoogleNews-vectors-negative300.bin.gz\n",
      "2017-06-28 22:13:00,195 : INFO : precomputing L2-norms of word weight vectors\n"
     ]
    }
   ],
   "source": [
    "wv = gensim.models.KeyedVectors.load_word2vec_format(\n",
    "    \"data/google_word2vec/GoogleNews-vectors-negative300.bin.gz\",\n",
    "    binary=True)\n",
    "wv.init_sims(replace=True)"
   ]
  },
  {
   "cell_type": "markdown",
   "metadata": {},
   "source": [
    "**Excercise:** Create a function for exploring the word2vec file and find ways to visualize the results"
   ]
  },
  {
   "cell_type": "markdown",
   "metadata": {},
   "source": [
    "**Preprocessing:** Here we tokenize both the training and testing datasets before creating the vectors with word2vec. Think of this as a filtering step. In this case words with `len(word)<2` are removed."
   ]
  },
  {
   "cell_type": "code",
   "execution_count": 60,
   "metadata": {},
   "outputs": [],
   "source": [
    "# test_tokenized = test_data.apply(lambda r: word2vec_helpers.w2v_tokenize_text(r['plot']), axis=1).values"
   ]
  },
  {
   "cell_type": "code",
   "execution_count": 61,
   "metadata": {},
   "outputs": [],
   "source": [
    "# train_tokenized = train_data.apply(lambda r: word2vec_helpers.w2v_tokenize_text(r['plot']), axis=1).values"
   ]
  },
  {
   "cell_type": "code",
   "execution_count": 62,
   "metadata": {},
   "outputs": [],
   "source": [
    "# store the data as pickle for retrieving later\n",
    "#pickle_helpers.convert_to_pickle(train_tokenized, \"data/movie_reviews/train.p\")\n",
    "\n",
    "# retrieve pickled version of test and train tokenized\n",
    "test_tokenized = pickle_helpers.load_from_pickle(\"data/movie_reviews/test.p\")\n",
    "train_tokenized = pickle_helpers.load_from_pickle(\"data/movie_reviews/train.p\")"
   ]
  },
  {
   "cell_type": "code",
   "execution_count": 63,
   "metadata": {},
   "outputs": [
    {
     "data": {
      "text/plain": [
       "array([ list(['Turkish', 'and', 'his', 'close', 'friend/accomplice', 'Tommy', 'get', 'pulled', 'into', 'the', 'world', 'of', 'match', 'fixing', 'by', 'the', 'notorious', 'Brick', 'Top', 'Things', 'get', 'complicated', 'when', 'the', 'boxer', 'they', 'had', 'lined', 'up', 'gets', 'badly', 'beaten', 'by', 'Pitt', \"'pikey\", 'slang', 'for', 'an', 'Irish', 'Gypsy', 'who', 'comes', 'into', 'the', 'equation', 'after', 'Turkish', 'an', 'unlicensed', 'boxing', 'promoter', 'wants', 'to', 'buy', 'caravan', 'off', 'the', 'Irish', 'Gypsies', 'They', 'then', 'try', 'to', 'convince', 'Pitt', 'not', 'only', 'to', 'fight', 'for', 'them', 'but', 'to', 'lose', 'for', 'them', 'too', 'Whilst', 'all', 'this', 'is', 'going', 'on', 'huge', 'diamond', 'heist', 'takes', 'place', 'and', 'fistful', 'of', 'motley', 'characters', 'enter', 'the', 'story', 'including', \"'Cousin\", 'Avi', \"'Boris\", 'The', 'Blade', \"'Franky\", 'Four', 'Fingers', 'and', \"'Bullet\", 'Tooth', 'Tony', 'Things', 'go', 'from', 'bad', 'to', 'worse', 'as', 'it', 'all', 'becomes', 'about', 'the', 'money', 'the', 'guns', 'and', 'the', 'damned', 'dog']),\n",
       "       list(['In', 'the', 'early', '1960', \"'s\", 'sixteen', 'year', 'old', 'Jenny', 'Mellor', 'lives', 'with', 'her', 'parents', 'in', 'the', 'London', 'suburb', 'of', 'Twickenham', 'On', 'her', 'father', \"'s\", 'wishes', 'everything', 'that', 'Jenny', 'does', 'is', 'in', 'the', 'sole', 'pursuit', 'of', 'being', 'accepted', 'into', 'Oxford', 'as', 'he', 'wants', 'her', 'to', 'have', 'better', 'life', 'than', 'he', 'Jenny', 'is', 'bright', 'pretty', 'hard', 'working', 'but', 'also', 'naturally', 'gifted', 'The', 'only', 'problems', 'her', 'father', 'may', 'perceive', 'in', 'her', 'life', 'is', 'her', 'issue', 'with', 'learning', 'Latin', 'and', 'her', 'dating', 'boy', 'named', 'Graham', 'who', 'is', 'nice', 'but', 'socially', 'awkward', 'Jenny', \"'s\", 'life', 'changes', 'after', 'she', 'meets', 'David', 'Goldman', 'man', 'over', 'twice', 'her', 'age', 'David', 'goes', 'out', 'of', 'his', 'way', 'to', 'show', 'Jenny', 'and', 'her', 'family', 'that', 'his', 'interest', 'in', 'her', 'is', 'not', 'improper', 'and', 'that', 'he', 'wants', 'solely', 'to', 'expose', 'her', 'to', 'cultural', 'activities', 'which', 'she', 'enjoys', 'Jenny', 'quickly', 'gets', 'accustomed', 'to', 'the', 'life', 'to', 'which', 'David', 'and', 'his', 'constant', 'companions', 'Danny', 'and', 'Helen', 'have', 'shown', 'her', 'and', 'Jenny', 'and', 'David', \"'s\", 'relationship', 'does', 'move', 'into', 'becoming', 'romantic', 'one', 'However', 'Jenny', 'slowly', 'learns', 'more', 'about', 'David', 'and', 'by', 'association', 'Danny', 'and', 'Helen', 'and', 'specifically', 'how', 'they', 'make', 'their', 'money', 'Jenny', 'has', 'to', 'decide', 'if', 'what', 'she', 'learns', 'about', 'them', 'and', 'leading', 'such', 'life', 'is', 'worth', 'forgoing', 'her', 'plans', 'of', 'higher', 'eduction', 'at', 'Oxford']),\n",
       "       list(['Ollie', 'Trinkie', 'is', 'publicist', 'who', 'has', 'great', 'girlfriend', 'Gertrude', 'whom', 'he', 'marries', 'and', 'they', 'are', 'expecting', 'baby', 'but', 'while', 'he', 'is', 'looking', 'forward', 'to', 'being', 'father', 'he', 'does', \"n't\", 'lighten', 'his', 'workload', 'Gertrude', 'gives', 'birth', 'but', 'dies', 'in', 'the', 'process', 'Ollie', 'does', \"n't\", 'live', 'up', 'to', 'his', 'responsibilities', 'as', 'father', 'Eventually', 'the', 'strain', 'and', 'pressure', 'of', 'losing', 'his', 'wife', 'and', 'being', 'father', 'gets', 'to', 'him', 'and', 'he', 'has', 'breakdown', 'which', 'leads', 'to', 'his', 'termination', 'So', 'with', 'nothing', 'much', 'to', 'do', 'he', 'tries', 'to', 'be', 'good', 'father', 'to', 'his', 'daughter', 'Gertie', 'He', 'also', 'meets', 'young', 'woman', 'name', 'Maya', 'who', 'likes', 'him', 'but', 'he', 'is', 'still', 'not', 'over', 'his', 'wife']),\n",
       "       list(['The', 'film', 'shows', 'the', 'day', 'when', 'Rui', 'and', 'Vani', 'first', 'met', 'It', 'was', 'at', 'their', 'wedding', 'with', 'other', 'partners', 'Vani', 'was', 'going', 'to', 'marry', 'Srgio', 'and', 'Rui', 'would', 'marry', 'Marta', 'in', 'the', 'same', 'church', 'following', 'Vani', \"'s\", 'marriage', 'While', 'waiting', 'for', 'the', 'ceremony', 'they', 'begin', 'to', 'talk', 'Complications', 'ensue']),\n",
       "       list(['Underneath', 'the', 'sands', 'of', 'Egypt', 'Anubis', 'an', 'ancient', 'evil', 'spirit', 'has', 'awakened', 'It', \"'s\", 'up', 'to', 'Yugi', 'who', 'defeated', 'Anubis', 'centuries', 'ago', 'to', 'use', 'his', 'skill', 'and', 'determination', 'to', 'rid', 'the', 'world', 'of', 'evil', 'once', 'again']),\n",
       "       list(['After', 'successful', 'mission', 'against', 'drug', 'lords', 'the', 'efficient', 'Captain', 'Damien', 'Tomaso', 'is', 'framed', 'at', 'home', 'with', 'three', 'kilograms', 'of', 'heroin', 'planted', 'by', 'the', 'police', 'in', 'his', 'kitchen', 'and', 'he', 'is', 'arrested', 'Meanwhile', 'group', 'of', 'teenagers', 'film', 'the', 'action', 'of', 'dirty', 'agents', 'led', 'by', 'Roland', 'from', 'the', 'security', 'agency', 'executing', 'policemen', 'in', 'their', 'car', 'and', 'then', 'leaving', 'the', 'car', 'with', 'the', 'corpses', 'in', 'the', '13th', 'District', 'to', 'blame', 'the', 'gangs', 'and', 'begin', 'civil', 'war', 'Behind', 'these', 'events', 'the', 'corrupt', 'chief', 'of', 'the', 'security', 'agency', 'Walter', 'Gassman', 'had', 'received', 'huge', 'amount', 'as', 'kickback', 'from', 'the', 'constructor', 'Harriburton', 'that', 'has', 'interest', 'to', 'construct', 'buildings', 'in', 'the', 'poor', 'area', 'and', 'uses', 'the', 'situation', 'to', 'force', 'the', 'President', 'of', 'France', 'to', 'authorize', 'to', 'nuke', 'five', 'towers', 'in', 'the', 'district', 'The', 'teenager', 'with', 'the', 'film', 'is', 'hunted', 'by', 'the', 'police', 'but', 'he', 'delivers', 'the', 'memory', 'card', 'to', 'Leito', 'meanwhile', 'Damien', 'calls', 'him', 'from', 'the', 'precinct', 'asking', 'for', 'help', 'The', 'friends', 'team-up', 'with', 'five', 'dangerous', 'bosses', 'to', 'gather', 'evidences', 'to', 'prove', 'to', 'the', 'president', 'that', 'Gassman', 'has', 'provoked', 'the', 'conflict', 'in', 'their', 'district']),\n",
       "       list(['Two', 'New', 'Yorkers', 'are', 'accused', 'of', 'murder', 'in', 'rural', 'Alabama', 'while', 'on', 'their', 'way', 'back', 'to', 'college', 'and', 'one', 'of', 'their', 'cousins', '--', 'an', 'inexperienced', 'loudmouth', 'lawyer', 'not', 'accustomed', 'to', 'Southern', 'rules', 'and', 'manners', '--', 'comes', 'in', 'to', 'defend', 'them']),\n",
       "       list(['man', 'finds', 'out', 'that', 'what', 'you', 'do', \"n't\", 'say', 'to', 'friend', 'is', 'just', 'as', 'important', 'as', 'what', 'you', 'do', 'is', 'this', 'story', 'of', 'how', 'far', 'you', 'can', 'bend', 'brotherly', 'bond', 'before', 'it', 'snaps', 'Since', 'college', 'confirmed', 'bachelor', 'Ronny', 'Vaughn', 'and', 'happily', 'married', 'Nick', 'James', 'have', 'been', 'through', 'thick', 'and', 'thin', 'Now', 'partners', 'in', 'an', 'auto', 'design', 'firm', 'the', 'two', 'pals', 'are', 'vying', 'to', 'land', 'dream', 'project', 'that', 'would', 'launch', 'their', 'company', 'Ronny', \"'s\", 'girlfriend', 'Beth', 'Connelly', 'and', 'Nick', \"'s\", 'wife', 'Geneva', 'Ryder', 'are', 'by', 'their', 'sides', 'But', 'Ronny', \"'s\", 'world', 'is', 'turned', 'upside', 'down', 'when', 'he', 'inadvertently', 'sees', 'Geneva', 'out', 'with', 'another', 'man', 'and', 'makes', 'it', 'his', 'mission', 'to', 'get', 'answers', 'As', 'the', 'amateur', 'investigation', 'dissolves', 'into', 'mayhem', 'he', 'learns', 'that', 'Nick', 'has', 'few', 'secrets', 'of', 'his', 'own', 'Now', 'with', 'the', 'clock', 'ticking', 'and', 'pressure', 'mounting', 'on', 'the', 'biggest', 'presentation', 'of', 'their', 'careers', 'Ronny', 'must', 'decide', 'what', 'will', 'happen', 'if', 'he', 'reveals', 'the', 'truth', 'to', 'his', 'best', 'friend']),\n",
       "       list(['Ben', 'Sobol', 'Psychiatrist', 'has', 'few', 'problems', 'His', 'son', 'spies', 'on', 'his', 'patients', 'when', 'they', 'open', 'up', 'their', 'heart', 'his', 'parents', 'do', \"n't\", 'want', 'to', 'attend', 'his', 'upcoming', 'wedding', 'and', 'his', 'patients', 'problems', 'do', \"n't\", 'challenge', 'him', 'at', 'all', 'Paul', 'Vitti', 'Godfather', 'has', 'few', 'problems', 'as', 'well', 'Sudden', 'anxiety', 'attacks', 'in', 'public', 'certain', 'disability', 'to', 'kill', 'people', 'and', 'his', 'best', 'part', 'ceasing', 'service', 'when', 'needed', 'One', 'day', 'Ben', 'unfortunately', 'crashes', 'into', 'one', 'of', 'Vitti', \"'s\", 'cars', 'The', 'exchange', 'of', 'Ben', \"'s\", 'business', 'card', 'is', 'followed', 'by', 'business', 'visit', 'of', 'Don', 'Paul', 'Vitti', 'himself', 'who', 'wants', 'to', 'be', 'free', 'of', 'inner', 'conflict', 'within', 'two', 'weeks', 'before', 'all', 'the', 'Mafia', 'Dons', 'meet', 'Now', 'Ben', 'Sobol', 'feels', 'somewhat', 'challenged', 'as', 'his', 'wedding', 'is', 'soon', 'his', 'only', 'patient', 'keeps', 'him', 'busy', 'by', 'regarding', 'Ben', \"'s\", 'duty', 'as', '24', 'hour', 'standby', 'and', 'the', 'feds', 'keep', 'forcing', 'him', 'to', 'spy', 'on', 'Paul', 'Vitti', 'And', 'how', 'do', 'you', 'treat', 'patient', 'who', 'usually', 'solves', 'problems', 'with', 'gun']),\n",
       "       list(['robot', 'malfunction', 'creates', 'havoc', 'and', 'terror', 'for', 'unsuspecting', 'vacationers', 'at', 'futuristic', 'adult-themed', 'amusement', 'park'])], dtype=object)"
      ]
     },
     "execution_count": 63,
     "metadata": {},
     "output_type": "execute_result"
    }
   ],
   "source": [
    "train_tokenized[0:10]"
   ]
  },
  {
   "cell_type": "markdown",
   "metadata": {},
   "source": [
    "Next, we have to convert the words into a distributed representation (in other words, each token must be conversed into vector). Since we are using word2vec the convesion can be done easily.\n",
    "\n",
    "Now that we have the vectors, we can obtain vectors for an entire document, by averaging word vectors. (Warning: very naive appraoch!)"
   ]
  },
  {
   "cell_type": "markdown",
   "metadata": {},
   "source": [
    "![alt txt](https://docs.google.com/drawings/d/1m1Uod7QU4iSN7J3iqsTU6JRWdGTEJRZ2dA7rZrgNHgA/pub?w=942&h=375)"
   ]
  },
  {
   "cell_type": "code",
   "execution_count": 64,
   "metadata": {},
   "outputs": [],
   "source": [
    "X_train_word_average = word2vec_helpers.word_averaging_list(wv,train_tokenized)"
   ]
  },
  {
   "cell_type": "code",
   "execution_count": 65,
   "metadata": {},
   "outputs": [],
   "source": [
    "X_test_word_average = word2vec_helpers.word_averaging_list(wv,test_tokenized)"
   ]
  },
  {
   "cell_type": "code",
   "execution_count": 66,
   "metadata": {},
   "outputs": [
    {
     "data": {
      "text/plain": [
       "array([ 0.05545449,  0.05910575,  0.04342501,  0.07156485, -0.06337085,\n",
       "       -0.04693267,  0.02318664, -0.0889559 ,  0.06699731,  0.08280275,\n",
       "       -0.02325549, -0.11232544, -0.01920838,  0.04011356, -0.11890385,\n",
       "        0.03739267,  0.0560286 ,  0.08226582,  0.02232919, -0.04910114,\n",
       "       -0.00497308,  0.04151743,  0.02096887, -0.00108779,  0.08315163,\n",
       "        0.00165053, -0.10190015,  0.0887218 ,  0.04294581,  0.02587495,\n",
       "       -0.01478133,  0.02559877, -0.03495957, -0.00126466,  0.03815735,\n",
       "        0.00277985, -0.00618378, -0.0127198 ,  0.04081891,  0.07088073,\n",
       "        0.09200442, -0.08722563,  0.11710441, -0.04684571, -0.02880416,\n",
       "       -0.00468458, -0.05068978, -0.00313703,  0.06019693,  0.06222438,\n",
       "       -0.01847018,  0.11511943, -0.00197043, -0.07153045, -0.03648838,\n",
       "        0.04271036, -0.02165449, -0.06775223,  0.01724528, -0.07145506,\n",
       "       -0.04500109,  0.0923021 , -0.07771284, -0.11304772, -0.03642419,\n",
       "       -0.02397631,  0.00947447,  0.06566761, -0.04847883,  0.07447033,\n",
       "        0.04596359,  0.00533706,  0.07440901,  0.01862758, -0.10930904,\n",
       "       -0.05191687,  0.09581147,  0.13321283,  0.02818674,  0.09916298,\n",
       "        0.00275499, -0.11262483,  0.03205725, -0.00655283, -0.03152488,\n",
       "       -0.09904213, -0.10709953,  0.10126126, -0.01183448,  0.00032518,\n",
       "        0.0346867 ,  0.05184319, -0.05309206, -0.13063876, -0.04088032,\n",
       "       -0.05249476,  0.04398097,  0.01841562, -0.02550774,  0.01531992,\n",
       "       -0.05255707, -0.05905483,  0.0204562 , -0.02640847, -0.05222479,\n",
       "       -0.03798182, -0.01838683, -0.08310767,  0.02429862, -0.06920657,\n",
       "        0.00807706,  0.02362138, -0.00099598, -0.03800139,  0.06231945,\n",
       "        0.03415101,  0.0561602 , -0.01016205,  0.08438386,  0.07533283,\n",
       "       -0.13695887, -0.01100177, -0.10242955,  0.03188829, -0.04064427,\n",
       "       -0.02914017, -0.06386539, -0.06155058, -0.00615242,  0.00615733,\n",
       "       -0.03677453, -0.10083614, -0.09915902, -0.01499352, -0.0428905 ,\n",
       "       -0.07342237,  0.00816098, -0.01920961, -0.05493748,  0.04522207,\n",
       "        0.07613138, -0.05877322,  0.0417468 , -0.01223148,  0.03953735,\n",
       "        0.01429599, -0.02857977, -0.07490996, -0.07850028,  0.03174346,\n",
       "        0.06443751,  0.01268353, -0.08018931,  0.06602806, -0.03417638,\n",
       "        0.00344341, -0.06512572, -0.08546869, -0.02787689, -0.0415597 ,\n",
       "       -0.02506224,  0.041864  ,  0.05230035,  0.01846709, -0.00877439,\n",
       "       -0.10832384,  0.03634784, -0.06550397,  0.03707062, -0.0529377 ,\n",
       "       -0.15230809, -0.06808924, -0.0105572 , -0.09720243, -0.02477943,\n",
       "       -0.0201604 ,  0.08111939, -0.06768905,  0.0002988 ,  0.0077303 ,\n",
       "       -0.04402705, -0.08054816, -0.00552738,  0.028412  , -0.03715033,\n",
       "       -0.04948618,  0.00337431,  0.03152485,  0.1285221 ,  0.04539691,\n",
       "        0.06230238,  0.00652147,  0.06113409,  0.02588119, -0.05525883,\n",
       "       -0.00190705, -0.04055991, -0.01651839, -0.08220793, -0.12156011,\n",
       "        0.05581678,  0.0460983 , -0.02329248,  0.02569922,  0.04048427,\n",
       "        0.01138046, -0.04218122,  0.01308791,  0.03205488, -0.0349777 ,\n",
       "       -0.01670968,  0.0374642 ,  0.01190601,  0.06392512, -0.10639601,\n",
       "        0.03272881,  0.10028993, -0.00271489, -0.10370444, -0.016493  ,\n",
       "       -0.01203196, -0.01359196, -0.0107542 , -0.03691358,  0.07650792,\n",
       "       -0.0165319 ,  0.05781083,  0.03541211,  0.06619678, -0.03761706,\n",
       "        0.04056923, -0.08521704,  0.04542974,  0.05765659,  0.01986002,\n",
       "       -0.0354447 ,  0.03333832, -0.05173995,  0.06272335,  0.01096975,\n",
       "        0.04950256, -0.00945826, -0.00653899, -0.1073802 ,  0.01505139,\n",
       "        0.00831405,  0.0658185 ,  0.06472088,  0.02112927, -0.0161819 ,\n",
       "        0.03234134,  0.01384802,  0.05193314,  0.05432371,  0.05399175,\n",
       "       -0.01561716,  0.07086278,  0.00388288, -0.04355494, -0.05447726,\n",
       "       -0.025471  ,  0.02247729, -0.08989162,  0.06539894,  0.08100092,\n",
       "        0.13270888, -0.06876201,  0.02076347, -0.05209624,  0.02469205,\n",
       "        0.06893449,  0.0873263 ,  0.07789882,  0.04711369,  0.0824732 ,\n",
       "       -0.08542187, -0.04682464, -0.15431304, -0.04475014, -0.01971488,\n",
       "        0.00911232, -0.0603571 , -0.0022078 ,  0.04911681,  0.04853116,\n",
       "        0.00946618, -0.12347805,  0.00823581,  0.00914641,  0.02190395,\n",
       "       -0.0688283 ,  0.03558169, -0.11885665,  0.02563123, -0.02871157,\n",
       "        0.0118563 ,  0.00246904, -0.02010039,  0.03884799, -0.0357489 ], dtype=float32)"
      ]
     },
     "execution_count": 66,
     "metadata": {},
     "output_type": "execute_result"
    }
   ],
   "source": [
    "X_train_word_average[0]"
   ]
  },
  {
   "cell_type": "markdown",
   "metadata": {},
   "source": [
    "### Further exploration  of word2vec generated vectors\n",
    "Some tips here: https://radimrehurek.com/gensim/models/keyedvectors.html"
   ]
  },
  {
   "cell_type": "code",
   "execution_count": 67,
   "metadata": {},
   "outputs": [
    {
     "data": {
      "text/plain": [
       "array([ -8.43075514e-02,   9.63514894e-02,   6.45992905e-02,\n",
       "         6.89789057e-02,   3.52193899e-02,   1.74272116e-02,\n",
       "        -6.05846494e-02,  -9.63514894e-02,  -7.00738132e-02,\n",
       "         2.60951947e-02,  -2.97448728e-02,   4.58034538e-02,\n",
       "        -4.89056818e-02,   3.55843566e-02,  -6.05846494e-02,\n",
       "        -3.67248803e-03,   2.93799043e-02,  -3.04748081e-02,\n",
       "        -3.10222600e-02,   4.96356152e-02,  -1.32118329e-01,\n",
       "        -6.60591647e-02,   1.71534847e-02,   6.67890981e-02,\n",
       "         7.81031027e-02,  -9.78113636e-02,  -7.25373439e-03,\n",
       "         4.31118160e-03,  -7.52746034e-03,  -9.48916152e-02,\n",
       "        -1.00001164e-01,  -3.50369066e-02,   8.50374922e-02,\n",
       "         1.72447264e-02,  -3.48544233e-02,  -5.21903895e-02,\n",
       "        -3.22996452e-02,   1.53286457e-02,  -4.58490755e-03,\n",
       "        -5.83948418e-02,   9.34317484e-02,   7.95629695e-02,\n",
       "        -2.14418564e-02,   2.40878724e-02,  -2.64601633e-02,\n",
       "        -8.72272924e-02,  -6.47247536e-04,  -6.60591647e-02,\n",
       "         9.63514894e-02,  -9.16981511e-03,  -4.41610999e-02,\n",
       "         2.59127114e-02,   1.31388396e-01,  -7.26285875e-02,\n",
       "         2.08031628e-02,   1.40512586e-02,  -1.79746617e-02,\n",
       "         7.00738132e-02,  -4.10588719e-02,  -1.13869943e-01,\n",
       "        -1.40512586e-02,  -2.64601633e-02,  -8.46725181e-02,\n",
       "        -3.04748081e-02,  -4.43435833e-02,   6.49642646e-02,\n",
       "         9.34317484e-02,  -2.68251300e-02,   5.72999381e-02,\n",
       "         4.85407114e-02,  -4.43435833e-02,  -2.82850023e-03,\n",
       "        -5.80298752e-02,  -4.12413590e-02,  -6.38693571e-02,\n",
       "        -1.71534847e-02,  -7.22636208e-02,   1.38687752e-02,\n",
       "         8.54024589e-02,  -5.62050343e-02,   5.62050343e-02,\n",
       "         1.49636781e-02,  -1.76781265e-03,  -5.98547123e-02,\n",
       "        -5.29203266e-02,   1.96170174e-02,   8.61323923e-02,\n",
       "        -3.01098414e-02,  -5.29203266e-02,   3.97814848e-02,\n",
       "         3.30752041e-03,  -1.35038078e-01,  -9.30667818e-02,\n",
       "         4.39101830e-04,  -1.21169299e-01,  -6.60591647e-02,\n",
       "         4.44804458e-03,   8.61323923e-02,   7.11687142e-03,\n",
       "         3.95990014e-02,   4.92706485e-02,  -5.36502600e-02,\n",
       "         5.14604561e-02,   6.02196828e-02,   1.00731105e-01,\n",
       "         2.39053890e-02,   2.66426466e-02,   1.29563557e-02,\n",
       "         2.07119212e-02,   1.46899521e-02,  -3.01098414e-02,\n",
       "        -3.10222600e-02,   8.94171000e-02,  -6.71540722e-02,\n",
       "         1.97082590e-02,  -1.54198883e-02,  -3.99639718e-02,\n",
       "        -5.43801971e-02,   4.41610999e-02,  -1.33578196e-01,\n",
       "        -8.71360581e-03,   1.19709425e-01,  -1.23359106e-01,\n",
       "         1.36862909e-02,  -3.32120657e-02,   8.04069627e-04,\n",
       "        -1.21169299e-01,   2.91974209e-02,   7.26285875e-02,\n",
       "         5.83948418e-02,  -5.25553562e-02,   8.72272924e-02,\n",
       "         3.30295824e-02,  -1.47446975e-01,  -2.17155814e-02,\n",
       "         9.53478273e-03,   4.01464552e-02,  -1.08121699e-02,\n",
       "        -2.29017269e-02,   9.23368409e-02,   1.05384439e-02,\n",
       "         6.70628250e-03,   4.72177053e-03,   7.11687133e-02,\n",
       "        -1.00731105e-01,  -2.60951947e-02,  -1.24887412e-03,\n",
       "         7.22636208e-02,   7.59132951e-02,   4.54384871e-02,\n",
       "        -3.55843566e-02,  -7.33585209e-02,  -1.08030461e-01,\n",
       "        -4.34311628e-02,   1.42337428e-02,  -1.44527242e-01,\n",
       "        -1.70622431e-02,   1.77921783e-02,   4.21537757e-02,\n",
       "         5.63419005e-03,  -7.55483285e-02,  -5.07305190e-02,\n",
       "         3.72267105e-02,  -3.06572914e-02,  -3.75916809e-02,\n",
       "        -4.81757447e-02,   8.97820666e-02,  -2.35404205e-02,\n",
       "         4.58034538e-02,   1.23176621e-02,  -1.00001164e-01,\n",
       "        -7.52746034e-03,  -5.91247790e-02,  -7.73731694e-02,\n",
       "         1.82483885e-02,   3.39420028e-02,   1.39417693e-01,\n",
       "        -7.08037466e-02,   6.79752463e-03,   6.02196828e-02,\n",
       "         1.04380779e-01,   3.64967771e-02,  -1.08121699e-02,\n",
       "         1.42337428e-02,   1.15421051e-02,  -6.58652745e-04,\n",
       "         8.10228437e-02,   3.13644159e-05,   1.45987107e-03,\n",
       "         9.48916189e-03,  -6.82489723e-02,   1.00001164e-01,\n",
       "        -1.34308144e-01,   2.33807470e-04,  -5.40152304e-02,\n",
       "        -5.07305190e-02,  -3.08397766e-02,  -3.86865847e-02,\n",
       "        -3.13872285e-02,  -4.78107780e-02,  -7.02562928e-03,\n",
       "        -3.44438315e-03,  -1.25001455e-02,  -5.58400676e-02,\n",
       "         6.16795532e-02,  -7.73731694e-02,  -2.13506147e-02,\n",
       "         3.95990014e-02,   2.57302281e-02,   1.98907424e-02,\n",
       "         2.97448728e-02,  -4.12413590e-02,  -6.60591647e-02,\n",
       "        -2.79200338e-02,   7.44534209e-02,   5.18254228e-02,\n",
       "        -8.61323923e-02,   1.14599876e-01,  -7.99279436e-02,\n",
       "        -2.88324542e-02,   2.19893083e-02,   3.01098414e-02,\n",
       "        -4.70808409e-02,   3.17521952e-02,  -7.00738132e-02,\n",
       "         6.93438724e-02,  -2.15330981e-02,  -6.45992905e-02,\n",
       "         1.61498226e-02,  -5.65700047e-02,  -2.21717916e-02,\n",
       "        -3.32120657e-02,  -8.07491131e-03,  -1.88870821e-02,\n",
       "         1.37775326e-02,  -2.70076152e-02,   1.02920912e-01,\n",
       "        -3.77741642e-02,   2.66882684e-03,   8.61323923e-02,\n",
       "        -7.11687142e-03,   3.72267105e-02,   6.43255701e-03,\n",
       "        -5.54751009e-02,  -4.19712923e-02,   1.24089038e-02,\n",
       "        -3.37595195e-02,   3.10222600e-02,  -2.21717916e-02,\n",
       "        -9.07857344e-03,   1.01461038e-01,   5.54751009e-02,\n",
       "        -7.52746034e-03,   5.32852933e-02,   5.76649085e-02,\n",
       "         3.19346786e-02,  -1.18979491e-01,  -4.43435833e-02,\n",
       "        -5.94897456e-02,  -3.86865847e-02,  -2.93799043e-02,\n",
       "         6.35043904e-02,  -1.25001455e-02,  -8.35776180e-02,\n",
       "         1.89783238e-02,   6.56941980e-02,  -3.79566476e-02,\n",
       "        -2.48178076e-02,   3.57668400e-02,   4.99549648e-03,\n",
       "         7.44534209e-02,  -1.54746339e-01,  -3.64967771e-02,\n",
       "         5.36502600e-02,   6.31394237e-02,  -3.10222600e-02,\n",
       "        -6.56941952e-03,  -2.07119212e-02,   5.10954857e-02,\n",
       "         2.90149376e-02,  -2.45212717e-03,  -6.89789057e-02,\n",
       "        -1.05840653e-01,   1.97082590e-02,   2.48178076e-02,\n",
       "        -1.03559606e-02,   3.95990014e-02,   3.24821323e-02,\n",
       "         1.66972745e-02,   1.44162271e-02,  -1.92520488e-02,\n",
       "        -3.21171619e-02,   4.05114219e-02,  -8.10228437e-02,\n",
       "        -8.68623257e-02,   5.94897456e-02,  -4.85407114e-02,\n",
       "         3.30295824e-02,  -3.04748081e-02,   6.45992905e-02], dtype=float32)"
      ]
     },
     "execution_count": 67,
     "metadata": {},
     "output_type": "execute_result"
    }
   ],
   "source": [
    "wv.syn0norm[wv.vocab['Murtuza'].index] # (300,)\n",
    "#wv.vocab['woman'].index"
   ]
  },
  {
   "cell_type": "code",
   "execution_count": 68,
   "metadata": {},
   "outputs": [
    {
     "data": {
      "text/plain": [
       "[('queen', 0.7118191719055176),\n",
       " ('monarch', 0.6189674139022827),\n",
       " ('princess', 0.5902431011199951),\n",
       " ('crown_prince', 0.5499460697174072),\n",
       " ('prince', 0.5377321243286133),\n",
       " ('kings', 0.5236844420433044),\n",
       " ('Queen_Consort', 0.5235945582389832),\n",
       " ('queens', 0.5181134343147278),\n",
       " ('sultan', 0.5098593235015869),\n",
       " ('monarchy', 0.5087411403656006)]"
      ]
     },
     "execution_count": 68,
     "metadata": {},
     "output_type": "execute_result"
    }
   ],
   "source": [
    "wv.most_similar(positive=['woman', 'king'], negative=['man'])"
   ]
  },
  {
   "cell_type": "code",
   "execution_count": 120,
   "metadata": {},
   "outputs": [
    {
     "data": {
      "text/plain": [
       "[('Donald_Trump', 0.492326557636261),\n",
       " ('Mexican', 0.43394654989242554),\n",
       " ('Aguilar_Zinser', 0.4289255142211914),\n",
       " ('México', 0.4275927245616913),\n",
       " ('Mexcio', 0.4245557487010956),\n",
       " ('Jorge_Castañeda', 0.42415398359298706),\n",
       " ('Celaya_Guanajuato', 0.4219090938568115),\n",
       " ('Guatemala', 0.41712844371795654),\n",
       " ('Bosques_de_las_Lomas', 0.41683387756347656),\n",
       " ('Peru', 0.4160282015800476)]"
      ]
     },
     "execution_count": 120,
     "metadata": {},
     "output_type": "execute_result"
    }
   ],
   "source": [
    "wv.most_similar(positive=['GOP', 'Trump'], negative=['money'])"
   ]
  },
  {
   "cell_type": "markdown",
   "metadata": {},
   "source": [
    "For fun, let us try to manually compute the cosine similarity of some of our word vectors, which is computed as follows:\n",
    "![alt txt](https://docs.google.com/drawings/d/1QI_5_uxopOYgk2PzU_RMTUGKkoNhJp81aIz4SUwsHIM/pub?w=956&h=263)"
   ]
  },
  {
   "cell_type": "code",
   "execution_count": 117,
   "metadata": {},
   "outputs": [
    {
     "data": {
      "text/plain": [
       "0.76924075586436913"
      ]
     },
     "execution_count": 117,
     "metadata": {},
     "output_type": "execute_result"
    }
   ],
   "source": [
    "word_embeddings.cosine_measure(wv.syn0norm[wv.vocab['gun'].index], wv.syn0norm[wv.vocab['pistol'].index])"
   ]
  },
  {
   "cell_type": "markdown",
   "metadata": {},
   "source": [
    "---"
   ]
  },
  {
   "cell_type": "markdown",
   "metadata": {},
   "source": [
    "### KNN Classification"
   ]
  },
  {
   "cell_type": "markdown",
   "metadata": {},
   "source": [
    "Now we train a KNN and a logistic regression classifier and observe how they perfom on these word-averaging document features\n",
    "\n",
    "Read about KNN- https://en.wikipedia.org/wiki/K-nearest_neighbors_algorithm\n",
    "\n",
    "![alt txt](https://docs.google.com/drawings/d/13xu1RP3pVem277_eT900af7iz_MvTQUrLoxzWAewb_o/pub?w=817&h=614)"
   ]
  },
  {
   "cell_type": "code",
   "execution_count": 71,
   "metadata": {},
   "outputs": [
    {
     "data": {
      "text/plain": [
       "KNeighborsClassifier(algorithm='brute', leaf_size=30, metric='cosine',\n",
       "           metric_params=None, n_jobs=1, n_neighbors=3, p=2,\n",
       "           weights='uniform')"
      ]
     },
     "execution_count": 71,
     "metadata": {},
     "output_type": "execute_result"
    }
   ],
   "source": [
    "knn_naive_dv = KNeighborsClassifier(n_neighbors=3, n_jobs=1, algorithm='brute', metric='cosine' )\n",
    "knn_naive_dv.fit(X_train_word_average, train_data.tag)"
   ]
  },
  {
   "cell_type": "code",
   "execution_count": 72,
   "metadata": {},
   "outputs": [],
   "source": [
    "predicted = knn_naive_dv.predict(X_test_word_average)"
   ]
  },
  {
   "cell_type": "code",
   "execution_count": 73,
   "metadata": {},
   "outputs": [
    {
     "name": "stdout",
     "output_type": "stream",
     "text": [
      "accuracy 0.38683127572\n",
      "confusion matrix\n",
      " [[22  4  6  1  6  3]\n",
      " [ 9  4  9  4  5  0]\n",
      " [18  4 44  3 13  4]\n",
      " [ 7  3  1  2  1  2]\n",
      " [13  0  9  1 11  1]\n",
      " [13  2  1  4  2 11]]\n",
      "(row=expected, col=predicted)\n"
     ]
    },
    {
     "data": {
      "image/png": "[encoded data removed]",
      "text/plain": [
       "<matplotlib.figure.Figure at 0x7f9db6e5a7b8>"
      ]
     },
     "metadata": {},
     "output_type": "display_data"
    }
   ],
   "source": [
    "word_embeddings.evaluate_prediction(predicted, test_data.tag, my_tags)"
   ]
  },
  {
   "cell_type": "markdown",
   "metadata": {},
   "source": [
    "KNN doesn't perform well (only 38%), even lower than chance. "
   ]
  },
  {
   "cell_type": "code",
   "execution_count": 74,
   "metadata": {},
   "outputs": [
    {
     "data": {
      "text/plain": [
       "'Scruffy but irresistibly attractive Yau Muk-yan, without a job or a place to live, moves in with sensitive, shy piano tuner Chan Kar-fu. Both are disturbed, then obsessed, by the amateurish piano playing of upstairs neighbour Mok Man-yee. Obsession turns to romance, and romance to fantasy. The film is structured in four \"movements\": two themes (Yau Muk-yan, Mok Man-yee), a duet (Yau Muk-yan & Mok Man-yee), and a set of variations (a wild fantasy of Chan Kar-fu in his new novel).'"
      ]
     },
     "execution_count": 74,
     "metadata": {},
     "output_type": "execute_result"
    }
   ],
   "source": [
    "test_data.iloc()[56]['plot']"
   ]
  },
  {
   "cell_type": "code",
   "execution_count": 75,
   "metadata": {},
   "outputs": [
    {
     "data": {
      "text/plain": [
       "[('just', 0.5038168430328369),\n",
       " ('but', 0.5023055076599121),\n",
       " ('in', 0.49800050258636475),\n",
       " ('the', 0.4957137107849121),\n",
       " ('so', 0.4889165759086609),\n",
       " ('actually', 0.4778650999069214),\n",
       " ('By_TBT_staff', 0.4743911623954773),\n",
       " ('even', 0.47195717692375183),\n",
       " ('really', 0.4685917794704437),\n",
       " ('anyway', 0.4660709500312805),\n",
       " ('vice_versa', 0.45745164155960083),\n",
       " ('one', 0.4536522626876831),\n",
       " ('sort', 0.4488521218299866),\n",
       " ('that', 0.4462577700614929),\n",
       " ('dreamy', 0.44418084621429443),\n",
       " ('You_EIG', 0.44372493028640747),\n",
       " ('kind', 0.442863404750824),\n",
       " ('then', 0.44108718633651733),\n",
       " ('obviously', 0.4360683262348175),\n",
       " ('Chan', 0.43542975187301636)]"
      ]
     },
     "execution_count": 75,
     "metadata": {},
     "output_type": "execute_result"
    }
   ],
   "source": [
    "wv.most_similar(positive=[X_test_word_average[56]], restrict_vocab=100000, topn=30)[0:20]"
   ]
  },
  {
   "cell_type": "markdown",
   "metadata": {},
   "source": [
    "The problem with the is that the average of this particular document fall under some area that is not related to the original document."
   ]
  },
  {
   "cell_type": "markdown",
   "metadata": {},
   "source": [
    "**Excercise:** Try to remove stopwords, the function is already provided. Try to figure out how to solve this using the current implementation of the function. Also, report the accuracy you achieved."
   ]
  },
  {
   "cell_type": "markdown",
   "metadata": {},
   "source": [
    "## Doc2Vec\n",
    "Paper: https://cs.stanford.edu/~quocle/paragraph_vector.pdf\n",
    "It is a **semi-supervised** approach since a **weak label or tag** (you can put many) is introduced into training documents before modeling. Read more about semi-supervised appraoches here: https://en.wikipedia.org/wiki/Semi-supervised_learning"
   ]
  },
  {
   "cell_type": "markdown",
   "metadata": {},
   "source": [
    "![alt txt](https://docs.google.com/drawings/d/1TT6jNhk8rVoWMQajb8AIXCtyug0t_YVVZrvFidDPUPU/pub?w=679&h=375)"
   ]
  },
  {
   "cell_type": "code",
   "execution_count": 76,
   "metadata": {},
   "outputs": [],
   "source": [
    "from gensim.models import Doc2Vec\n",
    "from gensim.models.doc2vec import TaggedDocument"
   ]
  },
  {
   "cell_type": "code",
   "execution_count": 77,
   "metadata": {},
   "outputs": [],
   "source": [
    "train_tagged = train_data.apply(\n",
    "    lambda r: TaggedDocument(words=word_embeddings.tokenize_text(r['plot']), tags=[r.tag]), axis=1)"
   ]
  },
  {
   "cell_type": "code",
   "execution_count": 78,
   "metadata": {},
   "outputs": [],
   "source": [
    "test_tagged = test_data.apply(\n",
    "    lambda r: TaggedDocument(words=word_embeddings.tokenize_text(r['plot']), tags=[r.tag]), axis=1)"
   ]
  },
  {
   "cell_type": "code",
   "execution_count": 79,
   "metadata": {},
   "outputs": [
    {
     "data": {
      "text/plain": [
       "TaggedDocument(words=['troubled', 'psychologist', 'is', 'sent', 'to', 'investigate', 'the', 'crew', 'of', 'an', 'isolated', 'research', 'station', 'orbiting', 'bizarre', 'planet'], tags=['sci-fi'])"
      ]
     },
     "execution_count": 79,
     "metadata": {},
     "output_type": "execute_result"
    }
   ],
   "source": [
    "test_tagged.values[50]"
   ]
  },
  {
   "cell_type": "code",
   "execution_count": 80,
   "metadata": {},
   "outputs": [],
   "source": [
    "trainsent = train_tagged.values\n",
    "testsent = test_tagged.values"
   ]
  },
  {
   "cell_type": "code",
   "execution_count": 81,
   "metadata": {},
   "outputs": [
    {
     "data": {
      "text/plain": [
       "array([ TaggedDocument(words=['turkish', 'and', 'his', 'close', 'friend/accomplice', 'tommy', 'get', 'pulled', 'into', 'the', 'world', 'of', 'match', 'fixing', 'by', 'the', 'notorious', 'brick', 'top', 'things', 'get', 'complicated', 'when', 'the', 'boxer', 'they', 'had', 'lined', 'up', 'gets', 'badly', 'beaten', 'by', 'pitt', \"'pikey\", 'slang', 'for', 'an', 'irish', 'gypsy', 'who', 'comes', 'into', 'the', 'equation', 'after', 'turkish', 'an', 'unlicensed', 'boxing', 'promoter', 'wants', 'to', 'buy', 'caravan', 'off', 'the', 'irish', 'gypsies', 'they', 'then', 'try', 'to', 'convince', 'pitt', 'not', 'only', 'to', 'fight', 'for', 'them', 'but', 'to', 'lose', 'for', 'them', 'too', 'whilst', 'all', 'this', 'is', 'going', 'on', 'huge', 'diamond', 'heist', 'takes', 'place', 'and', 'fistful', 'of', 'motley', 'characters', 'enter', 'the', 'story', 'including', \"'cousin\", 'avi', \"'boris\", 'the', 'blade', \"'franky\", 'four', 'fingers', 'and', \"'bullet\", 'tooth', 'tony', 'things', 'go', 'from', 'bad', 'to', 'worse', 'as', 'it', 'all', 'becomes', 'about', 'the', 'money', 'the', 'guns', 'and', 'the', 'damned', 'dog'], tags=['comedy']),\n",
       "       TaggedDocument(words=['in', 'the', 'early', '1960', \"'s\", 'sixteen', 'year', 'old', 'jenny', 'mellor', 'lives', 'with', 'her', 'parents', 'in', 'the', 'london', 'suburb', 'of', 'twickenham', 'on', 'her', 'father', \"'s\", 'wishes', 'everything', 'that', 'jenny', 'does', 'is', 'in', 'the', 'sole', 'pursuit', 'of', 'being', 'accepted', 'into', 'oxford', 'as', 'he', 'wants', 'her', 'to', 'have', 'better', 'life', 'than', 'he', 'jenny', 'is', 'bright', 'pretty', 'hard', 'working', 'but', 'also', 'naturally', 'gifted', 'the', 'only', 'problems', 'her', 'father', 'may', 'perceive', 'in', 'her', 'life', 'is', 'her', 'issue', 'with', 'learning', 'latin', 'and', 'her', 'dating', 'boy', 'named', 'graham', 'who', 'is', 'nice', 'but', 'socially', 'awkward', 'jenny', \"'s\", 'life', 'changes', 'after', 'she', 'meets', 'david', 'goldman', 'man', 'over', 'twice', 'her', 'age', 'david', 'goes', 'out', 'of', 'his', 'way', 'to', 'show', 'jenny', 'and', 'her', 'family', 'that', 'his', 'interest', 'in', 'her', 'is', 'not', 'improper', 'and', 'that', 'he', 'wants', 'solely', 'to', 'expose', 'her', 'to', 'cultural', 'activities', 'which', 'she', 'enjoys', 'jenny', 'quickly', 'gets', 'accustomed', 'to', 'the', 'life', 'to', 'which', 'david', 'and', 'his', 'constant', 'companions', 'danny', 'and', 'helen', 'have', 'shown', 'her', 'and', 'jenny', 'and', 'david', \"'s\", 'relationship', 'does', 'move', 'into', 'becoming', 'romantic', 'one', 'however', 'jenny', 'slowly', 'learns', 'more', 'about', 'david', 'and', 'by', 'association', 'danny', 'and', 'helen', 'and', 'specifically', 'how', 'they', 'make', 'their', 'money', 'jenny', 'has', 'to', 'decide', 'if', 'what', 'she', 'learns', 'about', 'them', 'and', 'leading', 'such', 'life', 'is', 'worth', 'forgoing', 'her', 'plans', 'of', 'higher', 'eduction', 'at', 'oxford'], tags=['romance']),\n",
       "       TaggedDocument(words=['ollie', 'trinkie', 'is', 'publicist', 'who', 'has', 'great', 'girlfriend', 'gertrude', 'whom', 'he', 'marries', 'and', 'they', 'are', 'expecting', 'baby', 'but', 'while', 'he', 'is', 'looking', 'forward', 'to', 'being', 'father', 'he', 'does', \"n't\", 'lighten', 'his', 'workload', 'gertrude', 'gives', 'birth', 'but', 'dies', 'in', 'the', 'process', 'ollie', 'does', \"n't\", 'live', 'up', 'to', 'his', 'responsibilities', 'as', 'father', 'eventually', 'the', 'strain', 'and', 'pressure', 'of', 'losing', 'his', 'wife', 'and', 'being', 'father', 'gets', 'to', 'him', 'and', 'he', 'has', 'breakdown', 'which', 'leads', 'to', 'his', 'termination', 'so', 'with', 'nothing', 'much', 'to', 'do', 'he', 'tries', 'to', 'be', 'good', 'father', 'to', 'his', 'daughter', 'gertie', 'he', 'also', 'meets', 'young', 'woman', 'name', 'maya', 'who', 'likes', 'him', 'but', 'he', 'is', 'still', 'not', 'over', 'his', 'wife'], tags=['comedy']),\n",
       "       ...,\n",
       "       TaggedDocument(words=['the', 'factual', 'story', 'of', 'spaniard', 'ramon', 'sampedro', 'who', 'fought', 'thirty-year', 'campaign', 'in', 'favor', 'of', 'euthanasia', 'and', 'his', 'own', 'right', 'to', 'die'], tags=['romance']),\n",
       "       TaggedDocument(words=['in', 'south', 'boston', 'the', 'state', 'police', 'force', 'is', 'waging', 'war', 'on', 'irish-american', 'organized', 'crime', 'young', 'undercover', 'cop', 'billy', 'costigan', 'leonardo', 'dicaprio', 'is', 'assigned', 'to', 'infiltrate', 'the', 'mob', 'syndicate', 'run', 'by', 'gangland', 'chief', 'frank', 'costello', 'jack', 'nicholson', 'while', 'billy', 'quickly', 'gains', 'costello', \"'s\", 'confidence', 'colin', 'sullivan', 'matt', 'damon', 'hardened', 'young', 'criminal', 'who', 'has', 'infiltrated', 'the', 'state', 'police', 'as', 'an', 'informer', 'for', 'the', 'syndicate', 'is', 'rising', 'to', 'position', 'of', 'power', 'in', 'the', 'special', 'investigation', 'unit', 'each', 'man', 'becomes', 'deeply', 'consumed', 'by', 'their', 'double', 'lives', 'gathering', 'information', 'about', 'the', 'plans', 'and', 'counter-plans', 'of', 'the', 'operations', 'they', 'have', 'penetrated', 'but', 'when', 'it', 'becomes', 'clear', 'to', 'both', 'the', 'mob', 'and', 'the', 'police', 'that', 'there', 'is', 'mole', 'in', 'their', 'midst', 'billy', 'and', 'colin', 'are', 'suddenly', 'in', 'danger', 'of', 'being', 'caught', 'and', 'exposed', 'to', 'the', 'enemy', 'and', 'each', 'must', 'race', 'to', 'uncover', 'the', 'identity', 'of', 'the', 'other', 'man', 'in', 'time', 'to', 'save', 'themselves', 'but', 'is', 'either', 'willing', 'to', 'turn', 'on', 'their', 'friends', 'and', 'comrades', 'they', \"'ve\", 'made', 'during', 'their', 'long', 'stints', 'undercover'], tags=['action']),\n",
       "       TaggedDocument(words=['the', 'topalovic', 'family', 'has', 'been', 'in', 'the', 'burial', 'business', 'for', 'generations', 'when', 'the', 'old', '150', 'yrs', 'old', 'pantelija', 'dies', 'five', 'generations', 'of', 'his', 'heirs', 'start', 'to', 'fight', 'for', 'the', 'inheritance'], tags=['comedy'])], dtype=object)"
      ]
     },
     "execution_count": 81,
     "metadata": {},
     "output_type": "execute_result"
    }
   ],
   "source": [
    "trainsent"
   ]
  },
  {
   "cell_type": "code",
   "execution_count": 82,
   "metadata": {},
   "outputs": [
    {
     "name": "stderr",
     "output_type": "stream",
     "text": [
      "2017-06-28 22:13:28,285 : WARNING : consider setting layer size to a multiple of 4 for greater performance\n",
      "2017-06-28 22:13:28,286 : INFO : collecting all words and their counts\n",
      "2017-06-28 22:13:28,287 : INFO : PROGRESS: at example #0, processed 0 words (0/s), 0 word types, 0 tags\n",
      "2017-06-28 22:13:28,324 : INFO : collected 17168 word types and 6 unique tags from a corpus of 2184 examples and 150640 words\n",
      "2017-06-28 22:13:28,325 : INFO : Loading a fresh vocabulary\n",
      "2017-06-28 22:13:28,335 : INFO : min_count=5 retains 3631 unique words (21% of original 17168, drops 13537)\n",
      "2017-06-28 22:13:28,336 : INFO : min_count=5 leaves 128953 word corpus (85% of original 150640, drops 21687)\n",
      "2017-06-28 22:13:28,345 : INFO : deleting the raw counts dictionary of 17168 items\n",
      "2017-06-28 22:13:28,346 : INFO : sample=0.001 downsamples 43 most-common words\n",
      "2017-06-28 22:13:28,347 : INFO : downsampling leaves estimated 92782 word corpus (72.0% of prior 128953)\n",
      "2017-06-28 22:13:28,348 : INFO : estimated required memory for 3631 words and 5 dimensions: 1962060 bytes\n",
      "2017-06-28 22:13:28,357 : INFO : resetting layer weights\n",
      "2017-06-28 22:13:28,407 : INFO : training model with 1 workers on 3631 vocabulary and 5 features, using sg=0 hs=0 sample=0.001 negative=5 window=5\n",
      "2017-06-28 22:13:29,414 : INFO : PROGRESS: at 42.23% examples, 799030 words/s, in_qsize 2, out_qsize 0\n",
      "2017-06-28 22:13:30,419 : INFO : PROGRESS: at 84.13% examples, 795161 words/s, in_qsize 2, out_qsize 0\n",
      "2017-06-28 22:13:30,797 : INFO : worker thread finished; awaiting finish of 0 more threads\n",
      "2017-06-28 22:13:30,798 : INFO : training on 3012800 raw words (1899475 effective words) took 2.4s, 795208 effective words/s\n"
     ]
    }
   ],
   "source": [
    "# train the model with simple gensim doc2vec api\n",
    "# size (dimensions of features)\n",
    "# dm is the training algorithm (distribute memory (1) or distributed bag of words)\n",
    "doc2vec_model = Doc2Vec(trainsent, workers=1, size=5, iter=20, dm=1)\n",
    "\n",
    "train_targets, train_regressors = zip(\n",
    "    *[(doc.tags[0], doc2vec_model.infer_vector(doc.words, steps=20)) for doc in trainsent])"
   ]
  },
  {
   "cell_type": "code",
   "execution_count": 83,
   "metadata": {},
   "outputs": [],
   "source": [
    "test_targets, test_regressors = zip(\n",
    "    *[(doc.tags[0], doc2vec_model.infer_vector(doc.words, steps=20)) for doc in testsent])"
   ]
  },
  {
   "cell_type": "markdown",
   "metadata": {},
   "source": [
    "Let us see what our data looks like after training and transormations"
   ]
  },
  {
   "cell_type": "code",
   "execution_count": 84,
   "metadata": {},
   "outputs": [
    {
     "data": {
      "text/plain": [
       "('comedy', 'romance', 'sci-fi', 'comedy', 'fantasy')"
      ]
     },
     "execution_count": 84,
     "metadata": {},
     "output_type": "execute_result"
    }
   ],
   "source": [
    "test_targets[0:5]"
   ]
  },
  {
   "cell_type": "code",
   "execution_count": 85,
   "metadata": {},
   "outputs": [
    {
     "data": {
      "text/plain": [
       "(array([-0.30981189,  0.78878409,  0.27795053, -1.40723765, -0.78624779], dtype=float32),\n",
       " array([-0.14812587,  0.67659032,  0.30580592, -0.62821662, -1.07823062], dtype=float32),\n",
       " array([-0.40741968,  0.41884324,  0.28939512, -0.16581796, -0.11567296], dtype=float32),\n",
       " array([-0.16268265,  0.93405986,  0.48112747, -0.88357091, -0.70414579], dtype=float32),\n",
       " array([ 0.06507298,  0.17371821,  0.09560882, -0.10981997, -0.2437499 ], dtype=float32))"
      ]
     },
     "execution_count": 85,
     "metadata": {},
     "output_type": "execute_result"
    }
   ],
   "source": [
    "test_regressors[0:5]"
   ]
  },
  {
   "cell_type": "code",
   "execution_count": 86,
   "metadata": {},
   "outputs": [],
   "source": [
    "d2v_model = linear_model.LogisticRegression(n_jobs=1, C=1e5)"
   ]
  },
  {
   "cell_type": "code",
   "execution_count": 87,
   "metadata": {},
   "outputs": [],
   "source": [
    "d2v_model = d2v_model.fit(train_regressors, train_targets)"
   ]
  },
  {
   "cell_type": "code",
   "execution_count": 88,
   "metadata": {},
   "outputs": [
    {
     "name": "stdout",
     "output_type": "stream",
     "text": [
      "accuracy 0.390946502058\n",
      "confusion matrix\n",
      " [[15  0 12  1  2 12]\n",
      " [ 5  0 14  3  5  4]\n",
      " [10  1 58  0 14  3]\n",
      " [ 2  0  6  1  3  4]\n",
      " [ 2  0 22  0  9  2]\n",
      " [ 8  0 12  1  0 12]]\n",
      "(row=expected, col=predicted)\n"
     ]
    },
    {
     "data": {
      "image/png": "[encoded data removed]",
      "text/plain": [
       "<matplotlib.figure.Figure at 0x7f9db6d393c8>"
      ]
     },
     "metadata": {},
     "output_type": "display_data"
    }
   ],
   "source": [
    "word_embeddings.evaluate_prediction(d2v_model.predict(test_regressors), test_targets, my_tags,title=str(doc2vec_model))"
   ]
  },
  {
   "cell_type": "markdown",
   "metadata": {},
   "source": [
    "Now let us train KNN model with doc2vec. You will observe how poor the model performs."
   ]
  },
  {
   "cell_type": "code",
   "execution_count": 89,
   "metadata": {},
   "outputs": [
    {
     "name": "stderr",
     "output_type": "stream",
     "text": [
      "2017-06-28 22:13:33,504 : INFO : precomputing L2-norms of doc weight vectors\n"
     ]
    },
    {
     "name": "stdout",
     "output_type": "stream",
     "text": [
      "accuracy 0.201646090535\n",
      "confusion matrix\n",
      " [[ 0 37  1  0  3  1]\n",
      " [ 3 26  0  0  2  0]\n",
      " [ 2 56 14  1 12  1]\n",
      " [ 0 15  0  0  1  0]\n",
      " [ 0 24  4  0  6  1]\n",
      " [ 1 28  0  0  1  3]]\n",
      "(row=expected, col=predicted)\n"
     ]
    },
    {
     "data": {
      "image/png": "[encoded data removed]",
      "text/plain": [
       "<matplotlib.figure.Figure at 0x7f9d942be240>"
      ]
     },
     "metadata": {},
     "output_type": "display_data"
    }
   ],
   "source": [
    "knn_test_predictions = [\n",
    "    doc2vec_model.docvecs.most_similar([pred_vec], topn=1)[0][0]\n",
    "    for pred_vec in test_regressors\n",
    "]\n",
    "word_embeddings.evaluate_prediction(knn_test_predictions, test_targets,my_tags, str(doc2vec_model))"
   ]
  },
  {
   "cell_type": "markdown",
   "metadata": {},
   "source": [
    "Since doc2vec also gives us a vector for each genre, we can also observe which genres are similar to each other"
   ]
  },
  {
   "cell_type": "code",
   "execution_count": 90,
   "metadata": {},
   "outputs": [
    {
     "data": {
      "text/plain": [
       "[('sci-fi', 0.955485463142395),\n",
       " ('animation', 0.9373874068260193),\n",
       " ('fantasy', 0.5044772624969482),\n",
       " ('comedy', 0.35625192523002625),\n",
       " ('romance', 0.09751249849796295)]"
      ]
     },
     "execution_count": 90,
     "metadata": {},
     "output_type": "execute_result"
    }
   ],
   "source": [
    "doc2vec_model.docvecs.most_similar('action')"
   ]
  },
  {
   "cell_type": "code",
   "execution_count": 91,
   "metadata": {},
   "outputs": [
    {
     "data": {
      "text/plain": [
       "[('animation', 0.6903013586997986),\n",
       " ('romance', 0.6896251440048218),\n",
       " ('action', 0.5044772624969482),\n",
       " ('sci-fi', 0.47834616899490356),\n",
       " ('comedy', -0.18462462723255157)]"
      ]
     },
     "execution_count": 91,
     "metadata": {},
     "output_type": "execute_result"
    }
   ],
   "source": [
    "doc2vec_model.docvecs.most_similar('fantasy')"
   ]
  },
  {
   "cell_type": "markdown",
   "metadata": {},
   "source": [
    "Since words and categories fall in the same vector space, it is possible to also observe which words sorround a tag. Notice how well those words descrive the tag, sci-fi in this case"
   ]
  },
  {
   "cell_type": "code",
   "execution_count": 121,
   "metadata": {},
   "outputs": [
    {
     "data": {
      "text/plain": [
       "[('years', 0.9583119750022888),\n",
       " ('fell', 0.9185272455215454),\n",
       " ('regina', 0.9117251634597778),\n",
       " ('marks', 0.9067319631576538),\n",
       " ('infected', 0.9006549119949341),\n",
       " ('cunning', 0.8974300622940063),\n",
       " ('vampires', 0.892426609992981),\n",
       " ('skywalker', 0.8912185430526733),\n",
       " ('cyborg', 0.8903250098228455),\n",
       " ('unfolds', 0.8898645043373108)]"
      ]
     },
     "execution_count": 121,
     "metadata": {},
     "output_type": "execute_result"
    }
   ],
   "source": [
    "doc2vec_model.most_similar([doc2vec_model.docvecs['fantasy']])"
   ]
  },
  {
   "cell_type": "markdown",
   "metadata": {},
   "source": [
    "### Visualization"
   ]
  },
  {
   "cell_type": "code",
   "execution_count": 93,
   "metadata": {},
   "outputs": [
    {
     "name": "stdout",
     "output_type": "stream",
     "text": [
      "Populating the interactive namespace from numpy and matplotlib\n"
     ]
    }
   ],
   "source": [
    "%pylab inline\n",
    "pylab.rcParams['figure.figsize'] = (15, 10)"
   ]
  },
  {
   "cell_type": "code",
   "execution_count": 94,
   "metadata": {},
   "outputs": [],
   "source": [
    "#doc2vec_model.wv.vocab\n",
    "doc2vec_words = word2vec_helpers.unpack_words_from_doc_vector(doc2vec_model)"
   ]
  },
  {
   "cell_type": "code",
   "execution_count": 95,
   "metadata": {},
   "outputs": [
    {
     "data": {
      "image/png": "[encoded data removed]",
      "text/plain": [
       "<matplotlib.figure.Figure at 0x7f9d942d4780>"
      ]
     },
     "metadata": {},
     "output_type": "display_data"
    }
   ],
   "source": [
    "word2vec_helpers.visualize_vectors(doc2vec_model, doc2vec_words)"
   ]
  },
  {
   "cell_type": "markdown",
   "metadata": {},
   "source": [
    "**Excercise:** Try to visualize words and find interesting clusters. There are so many creative ways to visualize these powerful vector representations"
   ]
  },
  {
   "cell_type": "markdown",
   "metadata": {},
   "source": [
    "---"
   ]
  },
  {
   "cell_type": "markdown",
   "metadata": {},
   "source": [
    "## Deep IR"
   ]
  },
  {
   "cell_type": "markdown",
   "metadata": {},
   "source": [
    "Paper: https://arxiv.org/pdf/1504.07295v3.pdf\n",
    "\n",
    "This approach is very simple: Train a model for each class or tag and then see which model fits each plot the best using a technique called the [Bayes' Theorem](https://en.wikipedia.org/wiki/Bayes%27_theorem). \n",
    "\n",
    "Pre-processing: We just clean non-alphanumeric characters and split reviews by sentences."
   ]
  },
  {
   "cell_type": "code",
   "execution_count": 96,
   "metadata": {},
   "outputs": [],
   "source": [
    "# The corpus is small so can be read into memory\n",
    "# here we split plot into sentences\n",
    "revtrain = list(deepir.plots(\"training\", train_data, test_data))\n",
    "revtest = list(deepir.plots(\"test\",train_data, test_data))"
   ]
  },
  {
   "cell_type": "code",
   "execution_count": 97,
   "metadata": {},
   "outputs": [
    {
     "data": {
      "text/plain": [
       "[{'x': [['turkish',\n",
       "    'and',\n",
       "    'his',\n",
       "    'close',\n",
       "    'friend',\n",
       "    'accomplice',\n",
       "    'tommy',\n",
       "    'get',\n",
       "    'pulled',\n",
       "    'into',\n",
       "    'the',\n",
       "    'world',\n",
       "    'of',\n",
       "    'match',\n",
       "    'fixing',\n",
       "    'by',\n",
       "    'the',\n",
       "    'notorious',\n",
       "    'brick',\n",
       "    'top'],\n",
       "   ['things',\n",
       "    'get',\n",
       "    'complicated',\n",
       "    'when',\n",
       "    'the',\n",
       "    'boxer',\n",
       "    'they',\n",
       "    'had',\n",
       "    'lined',\n",
       "    'up',\n",
       "    'gets',\n",
       "    'badly',\n",
       "    'beaten',\n",
       "    'by',\n",
       "    'pitt',\n",
       "    'pikey',\n",
       "    'slang',\n",
       "    'for',\n",
       "    'an',\n",
       "    'irish',\n",
       "    'gypsy',\n",
       "    'who',\n",
       "    'comes',\n",
       "    'into',\n",
       "    'the',\n",
       "    'equation',\n",
       "    'after',\n",
       "    'turkish',\n",
       "    'an',\n",
       "    'unlicensed',\n",
       "    'boxing',\n",
       "    'promoter',\n",
       "    'wants',\n",
       "    'to',\n",
       "    'buy',\n",
       "    'caravan',\n",
       "    'off',\n",
       "    'the',\n",
       "    'irish',\n",
       "    'gypsies'],\n",
       "   ['they',\n",
       "    'then',\n",
       "    'try',\n",
       "    'to',\n",
       "    'convince',\n",
       "    'pitt',\n",
       "    'not',\n",
       "    'only',\n",
       "    'to',\n",
       "    'fight',\n",
       "    'for',\n",
       "    'them',\n",
       "    'but',\n",
       "    'to',\n",
       "    'lose',\n",
       "    'for',\n",
       "    'them',\n",
       "    'too'],\n",
       "   ['whilst',\n",
       "    'all',\n",
       "    'this',\n",
       "    'is',\n",
       "    'going',\n",
       "    'on',\n",
       "    'huge',\n",
       "    'diamond',\n",
       "    'heist',\n",
       "    'takes',\n",
       "    'place',\n",
       "    'and',\n",
       "    'fistful',\n",
       "    'of',\n",
       "    'motley',\n",
       "    'characters',\n",
       "    'enter',\n",
       "    'the',\n",
       "    'story',\n",
       "    'including',\n",
       "    'cousin',\n",
       "    'avi',\n",
       "    'boris',\n",
       "    'the',\n",
       "    'blade',\n",
       "    'franky',\n",
       "    'four',\n",
       "    'fingers',\n",
       "    'and',\n",
       "    'bullet',\n",
       "    'tooth',\n",
       "    'tony'],\n",
       "   ['things',\n",
       "    'go',\n",
       "    'from',\n",
       "    'bad',\n",
       "    'to',\n",
       "    'worse',\n",
       "    'as',\n",
       "    'it',\n",
       "    'all',\n",
       "    'becomes',\n",
       "    'about',\n",
       "    'the',\n",
       "    'money',\n",
       "    'the',\n",
       "    'guns',\n",
       "    'and',\n",
       "    'the',\n",
       "    'damned',\n",
       "    'dog']],\n",
       "  'y': 'comedy'}]"
      ]
     },
     "execution_count": 97,
     "metadata": {},
     "output_type": "execute_result"
    }
   ],
   "source": [
    "revtrain[0:1]"
   ]
  },
  {
   "cell_type": "code",
   "execution_count": 98,
   "metadata": {},
   "outputs": [],
   "source": [
    "# shuffle training set for unbiased word2vec training\n",
    "np.random.shuffle(revtrain)"
   ]
  },
  {
   "cell_type": "markdown",
   "metadata": {},
   "source": [
    "Let us look at an example from the category sci-fi"
   ]
  },
  {
   "cell_type": "code",
   "execution_count": 99,
   "metadata": {},
   "outputs": [
    {
     "data": {
      "text/plain": [
       "['in',\n",
       " 'fascist',\n",
       " 'future',\n",
       " 'where',\n",
       " 'all',\n",
       " 'forms',\n",
       " 'of',\n",
       " 'feeling',\n",
       " 'are',\n",
       " 'illegal',\n",
       " 'man',\n",
       " 'in',\n",
       " 'charge',\n",
       " 'of',\n",
       " 'enforcing',\n",
       " 'the',\n",
       " 'law',\n",
       " 'rises',\n",
       " 'to',\n",
       " 'overthrow',\n",
       " 'the',\n",
       " 'system']"
      ]
     },
     "execution_count": 99,
     "metadata": {},
     "output_type": "execute_result"
    }
   ],
   "source": [
    "next(deepir.tag_sentences(revtrain, [\"sci-fi\"]))"
   ]
  },
  {
   "cell_type": "markdown",
   "metadata": {},
   "source": [
    "In the following steps, we train 6 word2vec models from scratch instead of using the Google pretrained word2vec as in the previous excercises"
   ]
  },
  {
   "cell_type": "code",
   "execution_count": 100,
   "metadata": {},
   "outputs": [],
   "source": [
    "## training\n",
    "from gensim.models import Word2Vec\n",
    "import multiprocessing"
   ]
  },
  {
   "cell_type": "code",
   "execution_count": 101,
   "metadata": {},
   "outputs": [],
   "source": [
    "## 1. create a w2v learner \n",
    "basemodel = Word2Vec(\n",
    "    workers=multiprocessing.cpu_count(), # use your cores\n",
    "    iter=100, # iter = sweeps of SGD through the data; more is better\n",
    "    hs=1, negative=0, # we only have scoring for the hierarchical softmax setup\n",
    "    )"
   ]
  },
  {
   "cell_type": "code",
   "execution_count": 102,
   "metadata": {},
   "outputs": [
    {
     "name": "stdout",
     "output_type": "stream",
     "text": [
      "Word2Vec(vocab=0, size=100, alpha=0.025)\n"
     ]
    }
   ],
   "source": [
    "print(basemodel)"
   ]
  },
  {
   "cell_type": "code",
   "execution_count": 103,
   "metadata": {},
   "outputs": [
    {
     "data": {
      "text/plain": [
       "100"
      ]
     },
     "execution_count": 103,
     "metadata": {},
     "output_type": "execute_result"
    }
   ],
   "source": [
    "basemodel.iter"
   ]
  },
  {
   "cell_type": "code",
   "execution_count": 104,
   "metadata": {},
   "outputs": [
    {
     "name": "stderr",
     "output_type": "stream",
     "text": [
      "2017-06-28 22:13:38,994 : INFO : collecting all words and their counts\n",
      "2017-06-28 22:13:38,996 : INFO : PROGRESS: at sentence #0, processed 0 words, keeping 0 word types\n",
      "2017-06-28 22:13:39,056 : INFO : collected 17544 word types from a corpus of 148422 raw words and 7880 sentences\n",
      "2017-06-28 22:13:39,057 : INFO : Loading a fresh vocabulary\n",
      "2017-06-28 22:13:39,070 : INFO : min_count=5 retains 3647 unique words (20% of original 17544, drops 13897)\n",
      "2017-06-28 22:13:39,070 : INFO : min_count=5 leaves 126255 word corpus (85% of original 148422, drops 22167)\n",
      "2017-06-28 22:13:39,080 : INFO : deleting the raw counts dictionary of 17544 items\n",
      "2017-06-28 22:13:39,081 : INFO : sample=0.001 downsamples 42 most-common words\n",
      "2017-06-28 22:13:39,081 : INFO : downsampling leaves estimated 91197 word corpus (72.2% of prior 126255)\n",
      "2017-06-28 22:13:39,082 : INFO : estimated required memory for 3647 words and 100 dimensions: 5470500 bytes\n",
      "2017-06-28 22:13:39,085 : INFO : constructing a huffman tree from 3647 words\n",
      "2017-06-28 22:13:39,155 : INFO : built huffman tree with maximum node depth 15\n",
      "2017-06-28 22:13:39,157 : INFO : resetting layer weights\n"
     ]
    }
   ],
   "source": [
    "# 2. build a vocabulary\n",
    "basemodel.build_vocab(deepir.tag_sentences(revtrain, my_tags)) "
   ]
  },
  {
   "cell_type": "code",
   "execution_count": 105,
   "metadata": {},
   "outputs": [],
   "source": [
    "from copy import deepcopy\n",
    "genremodels = [deepcopy(basemodel) for i in range(len(my_tags))]"
   ]
  },
  {
   "cell_type": "code",
   "execution_count": 106,
   "metadata": {},
   "outputs": [
    {
     "name": "stderr",
     "output_type": "stream",
     "text": [
      "2017-06-28 22:13:39,592 : INFO : training model with 4 workers on 3647 vocabulary and 100 features, using sg=0 hs=1 sample=0.001 negative=0 window=5\n"
     ]
    },
    {
     "name": "stdout",
     "output_type": "stream",
     "text": [
      "sci-fi genre ( 1157 )\n"
     ]
    },
    {
     "name": "stderr",
     "output_type": "stream",
     "text": [
      "2017-06-28 22:13:40,340 : INFO : worker thread finished; awaiting finish of 3 more threads\n",
      "2017-06-28 22:13:40,342 : INFO : worker thread finished; awaiting finish of 2 more threads\n",
      "2017-06-28 22:13:40,345 : INFO : worker thread finished; awaiting finish of 1 more threads\n",
      "2017-06-28 22:13:40,345 : INFO : worker thread finished; awaiting finish of 0 more threads\n",
      "2017-06-28 22:13:40,346 : INFO : training on 2163100 raw words (1331086 effective words) took 0.7s, 1780320 effective words/s\n",
      "2017-06-28 22:13:40,347 : INFO : training model with 4 workers on 3647 vocabulary and 100 features, using sg=0 hs=1 sample=0.001 negative=0 window=5\n"
     ]
    },
    {
     "name": "stdout",
     "output_type": "stream",
     "text": [
      "action genre ( 1370 )\n"
     ]
    },
    {
     "name": "stderr",
     "output_type": "stream",
     "text": [
      "2017-06-28 22:13:41,269 : INFO : worker thread finished; awaiting finish of 3 more threads\n",
      "2017-06-28 22:13:41,272 : INFO : worker thread finished; awaiting finish of 2 more threads\n",
      "2017-06-28 22:13:41,276 : INFO : worker thread finished; awaiting finish of 1 more threads\n",
      "2017-06-28 22:13:41,278 : INFO : worker thread finished; awaiting finish of 0 more threads\n",
      "2017-06-28 22:13:41,278 : INFO : training on 2577000 raw words (1598414 effective words) took 0.9s, 1735829 effective words/s\n",
      "2017-06-28 22:13:41,280 : INFO : training model with 4 workers on 3647 vocabulary and 100 features, using sg=0 hs=1 sample=0.001 negative=0 window=5\n"
     ]
    },
    {
     "name": "stdout",
     "output_type": "stream",
     "text": [
      "comedy genre ( 2375 )\n"
     ]
    },
    {
     "name": "stderr",
     "output_type": "stream",
     "text": [
      "2017-06-28 22:13:42,287 : INFO : PROGRESS: at 62.38% examples, 1723566 words/s, in_qsize 7, out_qsize 0\n",
      "2017-06-28 22:13:42,862 : INFO : worker thread finished; awaiting finish of 3 more threads\n",
      "2017-06-28 22:13:42,863 : INFO : worker thread finished; awaiting finish of 2 more threads\n",
      "2017-06-28 22:13:42,866 : INFO : worker thread finished; awaiting finish of 1 more threads\n",
      "2017-06-28 22:13:42,871 : INFO : worker thread finished; awaiting finish of 0 more threads\n",
      "2017-06-28 22:13:42,872 : INFO : training on 4515700 raw words (2765161 effective words) took 1.6s, 1744093 effective words/s\n",
      "2017-06-28 22:13:42,873 : INFO : training model with 4 workers on 3647 vocabulary and 100 features, using sg=0 hs=1 sample=0.001 negative=0 window=5\n"
     ]
    },
    {
     "name": "stdout",
     "output_type": "stream",
     "text": [
      "fantasy genre ( 707 )\n"
     ]
    },
    {
     "name": "stderr",
     "output_type": "stream",
     "text": [
      "2017-06-28 22:13:43,342 : INFO : worker thread finished; awaiting finish of 3 more threads\n",
      "2017-06-28 22:13:43,345 : INFO : worker thread finished; awaiting finish of 2 more threads\n",
      "2017-06-28 22:13:43,347 : INFO : worker thread finished; awaiting finish of 1 more threads\n",
      "2017-06-28 22:13:43,349 : INFO : worker thread finished; awaiting finish of 0 more threads\n",
      "2017-06-28 22:13:43,349 : INFO : training on 1340700 raw words (822429 effective words) took 0.5s, 1748793 effective words/s\n",
      "2017-06-28 22:13:43,351 : INFO : training model with 4 workers on 3647 vocabulary and 100 features, using sg=0 hs=1 sample=0.001 negative=0 window=5\n"
     ]
    },
    {
     "name": "stdout",
     "output_type": "stream",
     "text": [
      "animation genre ( 867 )\n"
     ]
    },
    {
     "name": "stderr",
     "output_type": "stream",
     "text": [
      "2017-06-28 22:13:43,952 : INFO : worker thread finished; awaiting finish of 3 more threads\n",
      "2017-06-28 22:13:43,958 : INFO : worker thread finished; awaiting finish of 2 more threads\n",
      "2017-06-28 22:13:43,962 : INFO : worker thread finished; awaiting finish of 1 more threads\n",
      "2017-06-28 22:13:43,963 : INFO : worker thread finished; awaiting finish of 0 more threads\n",
      "2017-06-28 22:13:43,963 : INFO : training on 1604300 raw words (972786 effective words) took 0.6s, 1603441 effective words/s\n",
      "2017-06-28 22:13:43,966 : INFO : training model with 4 workers on 3647 vocabulary and 100 features, using sg=0 hs=1 sample=0.001 negative=0 window=5\n"
     ]
    },
    {
     "name": "stdout",
     "output_type": "stream",
     "text": [
      "romance genre ( 1404 )\n"
     ]
    },
    {
     "name": "stderr",
     "output_type": "stream",
     "text": [
      "2017-06-28 22:13:44,910 : INFO : worker thread finished; awaiting finish of 3 more threads\n",
      "2017-06-28 22:13:44,914 : INFO : worker thread finished; awaiting finish of 2 more threads\n",
      "2017-06-28 22:13:44,915 : INFO : worker thread finished; awaiting finish of 1 more threads\n",
      "2017-06-28 22:13:44,917 : INFO : worker thread finished; awaiting finish of 0 more threads\n",
      "2017-06-28 22:13:44,917 : INFO : training on 2641400 raw words (1630692 effective words) took 0.9s, 1725774 effective words/s\n"
     ]
    }
   ],
   "source": [
    "# 3. training for each model or each tag\n",
    "for i in range(len(my_tags)):\n",
    "    slist = list(deepir.tag_sentences(revtrain, my_tags[i]))\n",
    "    print(my_tags[i], \"genre (\", len(slist), \")\")\n",
    "    genremodels[i].train(  slist, total_examples=len(slist), epochs=basemodel.iter)"
   ]
  },
  {
   "cell_type": "markdown",
   "metadata": {},
   "source": [
    "Now we will compute the most likely class for each plot using Bayes' Theorem  formula"
   ]
  },
  {
   "cell_type": "markdown",
   "metadata": {},
   "source": [
    "![alt text](https://docs.google.com/drawings/d/1SRnoMZ6TzZEfswazFhvxcQTrm2EC9lBn3qBVxPpRfXs/pub?w=866&h=424)"
   ]
  },
  {
   "cell_type": "code",
   "execution_count": 107,
   "metadata": {},
   "outputs": [
    {
     "name": "stderr",
     "output_type": "stream",
     "text": [
      "2017-06-28 22:13:44,932 : INFO : scoring sentences with 4 workers on 3647 vocabulary and 100 features, using sg=0 hs=1 sample=0.001 and negative=0\n",
      "2017-06-28 22:13:44,934 : INFO : reached end of input; waiting to finish 9 outstanding jobs\n",
      "2017-06-28 22:13:44,945 : INFO : scoring 894 sentences took 0.0s, 73422 sentences/s\n",
      "2017-06-28 22:13:44,946 : INFO : scoring sentences with 4 workers on 3647 vocabulary and 100 features, using sg=0 hs=1 sample=0.001 and negative=0\n",
      "2017-06-28 22:13:44,949 : INFO : reached end of input; waiting to finish 9 outstanding jobs\n",
      "2017-06-28 22:13:44,960 : INFO : scoring 894 sentences took 0.0s, 66932 sentences/s\n",
      "2017-06-28 22:13:44,960 : INFO : scoring sentences with 4 workers on 3647 vocabulary and 100 features, using sg=0 hs=1 sample=0.001 and negative=0\n",
      "2017-06-28 22:13:44,961 : INFO : reached end of input; waiting to finish 9 outstanding jobs\n",
      "2017-06-28 22:13:44,971 : INFO : scoring 894 sentences took 0.0s, 83436 sentences/s\n",
      "2017-06-28 22:13:44,972 : INFO : scoring sentences with 4 workers on 3647 vocabulary and 100 features, using sg=0 hs=1 sample=0.001 and negative=0\n",
      "2017-06-28 22:13:44,974 : INFO : reached end of input; waiting to finish 9 outstanding jobs\n",
      "2017-06-28 22:13:44,985 : INFO : scoring 894 sentences took 0.0s, 74658 sentences/s\n",
      "2017-06-28 22:13:44,985 : INFO : scoring sentences with 4 workers on 3647 vocabulary and 100 features, using sg=0 hs=1 sample=0.001 and negative=0\n",
      "2017-06-28 22:13:44,986 : INFO : reached end of input; waiting to finish 9 outstanding jobs\n",
      "2017-06-28 22:13:44,996 : INFO : scoring 894 sentences took 0.0s, 83549 sentences/s\n",
      "2017-06-28 22:13:44,997 : INFO : scoring sentences with 4 workers on 3647 vocabulary and 100 features, using sg=0 hs=1 sample=0.001 and negative=0\n",
      "2017-06-28 22:13:44,998 : INFO : reached end of input; waiting to finish 9 outstanding jobs\n",
      "2017-06-28 22:13:45,010 : INFO : scoring 894 sentences took 0.0s, 72172 sentences/s\n"
     ]
    }
   ],
   "source": [
    "probs = deepir.docprob( [r['x'] for r in revtest], genremodels )  "
   ]
  },
  {
   "cell_type": "code",
   "execution_count": 108,
   "metadata": {},
   "outputs": [
    {
     "data": {
      "text/html": [
       "<div>\n",
       "<style>\n",
       "    .dataframe thead tr:only-child th {\n",
       "        text-align: right;\n",
       "    }\n",
       "\n",
       "    .dataframe thead th {\n",
       "        text-align: left;\n",
       "    }\n",
       "\n",
       "    .dataframe tbody tr th {\n",
       "        vertical-align: top;\n",
       "    }\n",
       "</style>\n",
       "<table border=\"1\" class=\"dataframe\">\n",
       "  <thead>\n",
       "    <tr style=\"text-align: right;\">\n",
       "      <th></th>\n",
       "      <th>0</th>\n",
       "      <th>1</th>\n",
       "      <th>2</th>\n",
       "      <th>3</th>\n",
       "      <th>4</th>\n",
       "      <th>5</th>\n",
       "    </tr>\n",
       "    <tr>\n",
       "      <th>doc</th>\n",
       "      <th></th>\n",
       "      <th></th>\n",
       "      <th></th>\n",
       "      <th></th>\n",
       "      <th></th>\n",
       "      <th></th>\n",
       "    </tr>\n",
       "  </thead>\n",
       "  <tbody>\n",
       "    <tr>\n",
       "      <th>0</th>\n",
       "      <td>0.140609</td>\n",
       "      <td>0.136355</td>\n",
       "      <td>0.314262</td>\n",
       "      <td>0.057756</td>\n",
       "      <td>0.284332</td>\n",
       "      <td>0.066686</td>\n",
       "    </tr>\n",
       "    <tr>\n",
       "      <th>1</th>\n",
       "      <td>0.025672</td>\n",
       "      <td>0.333158</td>\n",
       "      <td>0.311374</td>\n",
       "      <td>0.018236</td>\n",
       "      <td>0.000245</td>\n",
       "      <td>0.311316</td>\n",
       "    </tr>\n",
       "  </tbody>\n",
       "</table>\n",
       "</div>"
      ],
      "text/plain": [
       "            0         1         2         3         4         5\n",
       "doc                                                            \n",
       "0    0.140609  0.136355  0.314262  0.057756  0.284332  0.066686\n",
       "1    0.025672  0.333158  0.311374  0.018236  0.000245  0.311316"
      ]
     },
     "execution_count": 108,
     "metadata": {},
     "output_type": "execute_result"
    }
   ],
   "source": [
    "probs[0:2]"
   ]
  },
  {
   "cell_type": "code",
   "execution_count": 109,
   "metadata": {},
   "outputs": [],
   "source": [
    "predictions = probs.idxmax(axis=1).apply(lambda x: my_tags[x])"
   ]
  },
  {
   "cell_type": "code",
   "execution_count": 110,
   "metadata": {},
   "outputs": [
    {
     "data": {
      "text/plain": [
       "doc\n",
       "0    comedy\n",
       "1    action\n",
       "dtype: object"
      ]
     },
     "execution_count": 110,
     "metadata": {},
     "output_type": "execute_result"
    }
   ],
   "source": [
    "predictions[0:2]"
   ]
  },
  {
   "cell_type": "code",
   "execution_count": 111,
   "metadata": {},
   "outputs": [
    {
     "data": {
      "text/plain": [
       "<matplotlib.axes._subplots.AxesSubplot at 0x7f9d8e64ca58>"
      ]
     },
     "execution_count": 111,
     "metadata": {},
     "output_type": "execute_result"
    },
    {
     "data": {
      "image/png": "[encoded data removed]",
      "text/plain": [
       "<matplotlib.figure.Figure at 0x7f9d8e64c2b0>"
      ]
     },
     "metadata": {},
     "output_type": "display_data"
    }
   ],
   "source": [
    "tag_index = 0\n",
    "col_name = \"out-of-sample prob positive for \" + my_tags[tag_index]\n",
    "probpos = pd.DataFrame({col_name:probs[[tag_index]].sum(axis=1), \n",
    "                        \"true genres\": [r['y'] for r in revtest]})\n",
    "probpos.boxplot(col_name,by=\"true genres\", figsize=(12,5))"
   ]
  },
  {
   "cell_type": "markdown",
   "metadata": {},
   "source": [
    "The chart above summarizes the probability of each plot being a scifi movie based on the reviews"
   ]
  },
  {
   "cell_type": "code",
   "execution_count": 112,
   "metadata": {},
   "outputs": [
    {
     "data": {
      "text/html": [
       "<div>\n",
       "<style>\n",
       "    .dataframe thead tr:only-child th {\n",
       "        text-align: right;\n",
       "    }\n",
       "\n",
       "    .dataframe thead th {\n",
       "        text-align: left;\n",
       "    }\n",
       "\n",
       "    .dataframe tbody tr th {\n",
       "        vertical-align: top;\n",
       "    }\n",
       "</style>\n",
       "<table border=\"1\" class=\"dataframe\">\n",
       "  <thead>\n",
       "    <tr style=\"text-align: right;\">\n",
       "      <th></th>\n",
       "      <th>out-of-sample prob positive for sci-fi</th>\n",
       "      <th>true genres</th>\n",
       "    </tr>\n",
       "    <tr>\n",
       "      <th>doc</th>\n",
       "      <th></th>\n",
       "      <th></th>\n",
       "    </tr>\n",
       "  </thead>\n",
       "  <tbody>\n",
       "    <tr>\n",
       "      <th>0</th>\n",
       "      <td>0.140609</td>\n",
       "      <td>comedy</td>\n",
       "    </tr>\n",
       "    <tr>\n",
       "      <th>1</th>\n",
       "      <td>0.025672</td>\n",
       "      <td>romance</td>\n",
       "    </tr>\n",
       "  </tbody>\n",
       "</table>\n",
       "</div>"
      ],
      "text/plain": [
       "     out-of-sample prob positive for sci-fi true genres\n",
       "doc                                                    \n",
       "0                                  0.140609      comedy\n",
       "1                                  0.025672     romance"
      ]
     },
     "execution_count": 112,
     "metadata": {},
     "output_type": "execute_result"
    }
   ],
   "source": [
    "probpos[0:2]"
   ]
  },
  {
   "cell_type": "code",
   "execution_count": 113,
   "metadata": {},
   "outputs": [],
   "source": [
    "target = [r['y'] for r in revtest]"
   ]
  },
  {
   "cell_type": "code",
   "execution_count": 114,
   "metadata": {},
   "outputs": [
    {
     "name": "stdout",
     "output_type": "stream",
     "text": [
      "accuracy 0.341563786008\n",
      "confusion matrix\n",
      " [[14  2  6  5  7  8]\n",
      " [ 4  7  3  7  6  4]\n",
      " [11  9 36  7 18  5]\n",
      " [ 8  2  1  2  1  2]\n",
      " [ 6  4  9  5 10  1]\n",
      " [ 6  4  5  1  3 14]]\n",
      "(row=expected, col=predicted)\n"
     ]
    },
    {
     "data": {
      "image/png": "[encoded data removed]",
      "text/plain": [
       "<matplotlib.figure.Figure at 0x7f9d8c2dbb70>"
      ]
     },
     "metadata": {},
     "output_type": "display_data"
    }
   ],
   "source": [
    "word_embeddings.evaluate_prediction(predictions, target, my_tags, \"Deep IR with word2vec\")"
   ]
  },
  {
   "cell_type": "markdown",
   "metadata": {},
   "source": [
    "---"
   ]
  },
  {
   "cell_type": "markdown",
   "metadata": {},
   "source": [
    "# To Be continued"
   ]
  },
  {
   "cell_type": "markdown",
   "metadata": {},
   "source": [
    "**Excercise:** Can you explain why we got very bad results for deepir? (Hint: training dataset contains a total of 30K words)"
   ]
  },
  {
   "cell_type": "markdown",
   "metadata": {},
   "source": [
    "**Excercise:** Feel free to test other approaches proposed by the original authors [here](https://github.com/RaRe-Technologies/movie-plots-by-genre/blob/master/Document%20classification%20with%20word%20embeddings%20tutorial.ipynb)"
   ]
  },
  {
   "cell_type": "markdown",
   "metadata": {},
   "source": [
    " **Excercise:** Experiment with other type of classifiers, like Random Forest Classifiers and Gradient Boost, and if possible, Deep Neural Networks. [More information](http://scikit-learn.org/stable/supervised_learning.html)"
   ]
  },
  {
   "cell_type": "markdown",
   "metadata": {},
   "source": [
    "**Excercise:** Try to implement different preprocessing methods such as stopwords removal, and those other ones you learned in the Text Mining course"
   ]
  },
  {
   "cell_type": "markdown",
   "metadata": {},
   "source": [
    "**Excercise:** Create better visualization (always good to know your data)"
   ]
  },
  {
   "cell_type": "code",
   "execution_count": null,
   "metadata": {},
   "outputs": [],
   "source": []
  }
 ],
 "metadata": {
  "kernelspec": {
   "display_name": "Python 3",
   "language": "python",
   "name": "python3"
  },
  "language_info": {
   "codemirror_mode": {
    "name": "ipython",
    "version": 3
   },
   "file_extension": ".py",
   "mimetype": "text/x-python",
   "name": "python",
   "nbconvert_exporter": "python",
   "pygments_lexer": "ipython3",
   "version": "3.6.1"
  }
 },
 "nbformat": 4,
 "nbformat_minor": 2
}
